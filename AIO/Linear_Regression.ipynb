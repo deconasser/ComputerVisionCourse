{
  "nbformat": 4,
  "nbformat_minor": 0,
  "metadata": {
    "colab": {
      "provenance": [],
      "include_colab_link": true
    },
    "kernelspec": {
      "name": "python3",
      "display_name": "Python 3"
    },
    "language_info": {
      "name": "python"
    }
  },
  "cells": [
    {
      "cell_type": "markdown",
      "metadata": {
        "id": "view-in-github",
        "colab_type": "text"
      },
      "source": [
        "<a href=\"https://colab.research.google.com/github/deconasser/ComputerVisionCourse/blob/main/AIO/Linear_Regression.ipynb\" target=\"_parent\"><img src=\"https://colab.research.google.com/assets/colab-badge.svg\" alt=\"Open In Colab\"/></a>"
      ]
    },
    {
      "cell_type": "code",
      "metadata": {
        "id": "ekvQHNHvvlur"
      },
      "source": [
        "import torch\n",
        "import torchvision\n",
        "import numpy as np\n",
        "import torch.nn as nn\n",
        "import matplotlib.pyplot as plt"
      ],
      "execution_count": 1,
      "outputs": []
    },
    {
      "cell_type": "markdown",
      "metadata": {
        "id": "8ey1d2zEwiUf"
      },
      "source": [
        "# Set hyper-params"
      ]
    },
    {
      "cell_type": "code",
      "metadata": {
        "id": "EhRT3w0iv-zc"
      },
      "source": [
        "input_size = 1\n",
        "output_size = 1\n",
        "num_epochs = 50\n",
        "learning_rate = 0.001"
      ],
      "execution_count": 12,
      "outputs": []
    },
    {
      "cell_type": "markdown",
      "metadata": {
        "id": "pLH6fZJPwljy"
      },
      "source": [
        "# Create dataset\n"
      ]
    },
    {
      "cell_type": "code",
      "metadata": {
        "id": "RV51xrWTwZOi"
      },
      "source": [
        "x_train = np.array([[3.3], [4.4], [5.5], [6.71], [6.93], [4.168],\n",
        "                    [9.779], [6.182], [7.59], [2.167], [7.042],\n",
        "                    [10.791], [5.313], [7.997], [3.1]], dtype=np.float32)\n",
        "\n",
        "y_train = np.array([[1.7], [2.76], [2.09], [3.19], [1.694], [1.573],\n",
        "                    [3.366], [2.596], [2.53], [1.221], [2.827],\n",
        "                    [3.465], [1.65], [2.904], [1.3]], dtype=np.float32)"
      ],
      "execution_count": 3,
      "outputs": []
    },
    {
      "cell_type": "markdown",
      "metadata": {
        "id": "bUhOyNhRwnEW"
      },
      "source": [
        "# Create linear model"
      ]
    },
    {
      "cell_type": "code",
      "metadata": {
        "id": "Q-a4gFDfwc-S"
      },
      "source": [
        "model = nn.Linear(input_size, output_size)"
      ],
      "execution_count": 4,
      "outputs": []
    },
    {
      "cell_type": "markdown",
      "metadata": {
        "id": "xPL1Q9yDwtKz"
      },
      "source": [
        "# Loss and optimizer"
      ]
    },
    {
      "cell_type": "code",
      "metadata": {
        "id": "bXHLgoPawwGV"
      },
      "source": [
        "criterion = nn.MSELoss()\n",
        "optimizer = torch.optim.SGD(model.parameters(), lr=0.001)"
      ],
      "execution_count": 5,
      "outputs": []
    },
    {
      "cell_type": "markdown",
      "metadata": {
        "id": "9RP620snw8Aj"
      },
      "source": [
        "# Train model"
      ]
    },
    {
      "cell_type": "code",
      "metadata": {
        "colab": {
          "base_uri": "https://localhost:8080/"
        },
        "id": "IlOjmN0rw-H-",
        "outputId": "a6e96b3f-1fda-4b38-dfa4-a4ddbdb688ba"
      },
      "source": [
        "for epoch in range(num_epochs):\n",
        "  # chuyển numpy array sang torch tensor\n",
        "  inputs = torch.from_numpy(x_train)\n",
        "  targets = torch.from_numpy(y_train)\n",
        "\n",
        "  # lan truyền tới\n",
        "  outputs = model(inputs)\n",
        "  loss = criterion(outputs, targets)\n",
        "\n",
        "  # lan truyền ngược\n",
        "  optimizer.zero_grad()\n",
        "  loss.backward()\n",
        "\n",
        "  # optimizer\n",
        "  optimizer.step()\n",
        "\n",
        "  # Hiển thị thông tin huấn luyện\n",
        "  if (epoch+1)%5 == 0:\n",
        "    print(\"Epoch: {}/{}, Loss: {}\".format(epoch, num_epochs, loss.item()))"
      ],
      "execution_count": 13,
      "outputs": [
        {
          "output_type": "stream",
          "name": "stdout",
          "text": [
            "Epoch: 4/50, Loss: 0.4495247006416321\n",
            "Epoch: 9/50, Loss: 0.42817527055740356\n",
            "Epoch: 14/50, Loss: 0.4191528856754303\n",
            "Epoch: 19/50, Loss: 0.4151252806186676\n",
            "Epoch: 24/50, Loss: 0.41312214732170105\n",
            "Epoch: 29/50, Loss: 0.4119400084018707\n",
            "Epoch: 34/50, Loss: 0.41109147667884827\n",
            "Epoch: 39/50, Loss: 0.4103790819644928\n",
            "Epoch: 44/50, Loss: 0.4097227454185486\n",
            "Epoch: 49/50, Loss: 0.4090900719165802\n"
          ]
        }
      ]
    },
    {
      "cell_type": "markdown",
      "metadata": {
        "id": "e6-qYsnyyaQG"
      },
      "source": [
        "# Predict"
      ]
    },
    {
      "cell_type": "code",
      "metadata": {
        "id": "A6o-fdrzybCn",
        "outputId": "6064af42-cc51-43aa-af2f-d0f7eaf47e97",
        "colab": {
          "base_uri": "https://localhost:8080/"
        }
      },
      "source": [
        "predicted = model(torch.from_numpy(x_train)).detach().numpy()\n",
        "predicted"
      ],
      "execution_count": 14,
      "outputs": [
        {
          "output_type": "execute_result",
          "data": {
            "text/plain": [
              "array([[0.89262706],\n",
              "       [1.3920789 ],\n",
              "       [1.8915305 ],\n",
              "       [2.4409275 ],\n",
              "       [2.5408177 ],\n",
              "       [1.2867401 ],\n",
              "       [3.8343978 ],\n",
              "       [2.2011907 ],\n",
              "       [2.840489  ],\n",
              "       [0.37819183],\n",
              "       [2.591671  ],\n",
              "       [4.2938933 ],\n",
              "       [1.8066237 ],\n",
              "       [3.025286  ],\n",
              "       [0.8018176 ]], dtype=float32)"
            ]
          },
          "metadata": {},
          "execution_count": 14
        }
      ]
    },
    {
      "cell_type": "markdown",
      "metadata": {
        "id": "X7aU-9LpyV-v"
      },
      "source": [
        "# Visualization\n"
      ]
    },
    {
      "cell_type": "code",
      "metadata": {
        "id": "TSIbLG6kyX-2",
        "outputId": "f1c7d617-88e6-472a-ba7a-2717afb199b6",
        "colab": {
          "base_uri": "https://localhost:8080/",
          "height": 447
        }
      },
      "source": [
        "plt.plot(x_train, y_train, 'ro', label='Original data')\n",
        "plt.plot(x_train, predicted, label='Fitted line')\n",
        "plt.legend()\n",
        "plt.show()\n",
        "plt.savefig(\"fig_plot.jpg\")"
      ],
      "execution_count": 15,
      "outputs": [
        {
          "output_type": "display_data",
          "data": {
            "text/plain": [
              "<Figure size 640x480 with 1 Axes>"
            ],
            "image/png": "[encoded data removed]"
          },
          "metadata": {}
        },
        {
          "output_type": "display_data",
          "data": {
            "text/plain": [
              "<Figure size 640x480 with 0 Axes>"
            ]
          },
          "metadata": {}
        }
      ]
    },
    {
      "cell_type": "markdown",
      "metadata": {
        "id": "qz_Xy_cvy7NN"
      },
      "source": [
        "# Save model"
      ]
    },
    {
      "cell_type": "code",
      "metadata": {
        "id": "P-dXIPL9y9fa"
      },
      "source": [
        "torch.save(model.state_dict(), 'linear_model.ckpt')"
      ],
      "execution_count": null,
      "outputs": []
    }
  ]
}
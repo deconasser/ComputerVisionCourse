{
  "nbformat": 4,
  "nbformat_minor": 0,
  "metadata": {
    "colab": {
      "provenance": [],
      "include_colab_link": true
    },
    "kernelspec": {
      "name": "python3",
      "display_name": "Python 3"
    },
    "language_info": {
      "name": "python"
    }
  },
  "cells": [
    {
      "cell_type": "markdown",
      "metadata": {
        "id": "view-in-github",
        "colab_type": "text"
      },
      "source": [
        "<a href=\"https://colab.research.google.com/github/deconasser/ComputerVisionCourse/blob/main/AIO/Ensembling/Averaging.ipynb\" target=\"_parent\"><img src=\"https://colab.research.google.com/assets/colab-badge.svg\" alt=\"Open In Colab\"/></a>"
      ]
    },
    {
      "cell_type": "code",
      "execution_count": null,
      "metadata": {
        "id": "z0xkNhQ7-JPb",
        "colab": {
          "base_uri": "https://localhost:8080/"
        },
        "outputId": "bf8f0c30-8f25-45a8-c16f-d5ffddd30670"
      },
      "outputs": [
        {
          "output_type": "stream",
          "name": "stdout",
          "text": [
            "/usr/local/lib/python3.10/dist-packages/gdown/cli.py:121: FutureWarning: Option `--id` was deprecated in version 4.3.1 and will be removed in 5.0. You don't need to pass it anymore to use a file ID.\n",
            "  warnings.warn(\n",
            "Downloading...\n",
            "From: https://drive.google.com/uc?id=1AgwhNclNbPXCzDydhIO20s03XQuop3UI\n",
            "To: /content/samples.zip\n",
            "100% 1.31k/1.31k [00:00<00:00, 5.77MB/s]\n"
          ]
        }
      ],
      "source": [
        "!gdown --id 1AgwhNclNbPXCzDydhIO20s03XQuop3UI"
      ]
    },
    {
      "cell_type": "code",
      "source": [
        "!unzip samples.zip"
      ],
      "metadata": {
        "id": "Rut2hxP9AVLN",
        "colab": {
          "base_uri": "https://localhost:8080/"
        },
        "outputId": "b0f26147-c86a-4c76-b158-c7416775942d"
      },
      "execution_count": null,
      "outputs": [
        {
          "output_type": "stream",
          "name": "stdout",
          "text": [
            "Archive:  samples.zip\n",
            "   creating: samples/\n",
            "  inflating: samples/method1.csv     \n",
            "  inflating: samples/method2.csv     \n",
            "  inflating: samples/method3.csv     \n",
            "  inflating: samples/_w2_method2.csv  \n",
            "  inflating: samples/_w2_method3.csv  \n",
            "  inflating: samples/_w3_method1.csv  \n"
          ]
        }
      ]
    },
    {
      "cell_type": "code",
      "source": [
        "from collections import defaultdict\n",
        "from glob import glob\n",
        "\n",
        "def ensembling(glob_files, loc_outfile, method=\"average\"):\n",
        "  if method == \"average\":\n",
        "    scores = defaultdict(float)\n",
        "\n",
        "  with open(loc_outfile,\"w\") as outfile:\n",
        "    for i, glob_file in enumerate( glob(glob_files) ):\n",
        "      print(\"parsing: {}\".format(glob_file))\n",
        "      lines = open(glob_file).readlines()\n",
        "      lines = [lines[0]] + sorted(lines[1:])\n",
        "      for e, line in enumerate( lines ):\n",
        "        if i == 0 and e == 0:\n",
        "          outfile.write(line)\n",
        "        if e > 0:\n",
        "          row = line.strip().split(\",\")\n",
        "          scores[(e,row[0])] += float(row[1])\n",
        "\n",
        "    for j,k in sorted(scores):\n",
        "      outfile.write(\"%s,%f\\n\"%(k,scores[(j,k)]/(i+1)))\n",
        "\n",
        "    print(\"wrote to {}\".format(loc_outfile))\n"
      ],
      "metadata": {
        "id": "sgWj-vob_WPI"
      },
      "execution_count": null,
      "outputs": []
    },
    {
      "cell_type": "code",
      "source": [
        "ensembling(\"samples/method*.csv\", \"submission.csv\")"
      ],
      "metadata": {
        "colab": {
          "base_uri": "https://localhost:8080/"
        },
        "id": "hVUV6Rv1ANhH",
        "outputId": "3e26c21e-9726-451c-989e-f866dcee0ad2"
      },
      "execution_count": null,
      "outputs": [
        {
          "output_type": "stream",
          "name": "stdout",
          "text": [
            "parsing: samples/method1.csv\n",
            "parsing: samples/method3.csv\n",
            "parsing: samples/method2.csv\n",
            "wrote to submission.csv\n"
          ]
        }
      ]
    }
  ]
}
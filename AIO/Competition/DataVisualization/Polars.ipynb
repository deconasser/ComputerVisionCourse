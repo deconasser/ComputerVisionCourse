{
  "nbformat": 4,
  "nbformat_minor": 0,
  "metadata": {
    "colab": {
      "provenance": []
    },
    "kernelspec": {
      "name": "python3",
      "display_name": "Python 3"
    },
    "language_info": {
      "name": "python"
    }
  },
  "cells": [
    {
      "cell_type": "markdown",
      "source": [
        "# Install polars "
      ],
      "metadata": {
        "id": "wGedeIwwSvfg"
      }
    },
    {
      "cell_type": "code",
      "execution_count": null,
      "metadata": {
        "colab": {
          "base_uri": "https://localhost:8080/"
        },
        "id": "3LShVtFQSh0r",
        "outputId": "d9dec5fb-cba5-471f-f85f-9a6caee56d52"
      },
      "outputs": [
        {
          "output_type": "stream",
          "name": "stdout",
          "text": [
            "Looking in indexes: https://pypi.org/simple, https://us-python.pkg.dev/colab-wheels/public/simple/\n",
            "Requirement already satisfied: polars in /usr/local/lib/python3.10/dist-packages (0.17.3)\n",
            "Requirement already satisfied: typing_extensions>=4.0.1 in /usr/local/lib/python3.10/dist-packages (from polars) (4.5.0)\n"
          ]
        }
      ],
      "source": [
        "!pip install polars"
      ]
    },
    {
      "cell_type": "code",
      "source": [
        "import polars as pl"
      ],
      "metadata": {
        "id": "RLz0JyoBSxxv"
      },
      "execution_count": null,
      "outputs": []
    },
    {
      "cell_type": "markdown",
      "source": [
        "# Series & DataFrames"
      ],
      "metadata": {
        "id": "viC3YXxUS3Yu"
      }
    },
    {
      "cell_type": "markdown",
      "source": [
        "# Series "
      ],
      "metadata": {
        "id": "LBY3NldLS34O"
      }
    },
    {
      "cell_type": "code",
      "source": [
        "import polars as pl\n",
        "\n",
        "my_series = pl.Series(\"a\", [1, 2, 3, 4, 5])\n",
        "print(my_series)"
      ],
      "metadata": {
        "colab": {
          "base_uri": "https://localhost:8080/"
        },
        "id": "ZjdgirJFS5Yu",
        "outputId": "7f3851a8-40e2-4dba-f497-740edd47af3f"
      },
      "execution_count": null,
      "outputs": [
        {
          "output_type": "stream",
          "name": "stdout",
          "text": [
            "shape: (5,)\n",
            "Series: 'a' [i64]\n",
            "[\n",
            "\t1\n",
            "\t2\n",
            "\t3\n",
            "\t4\n",
            "\t5\n",
            "]\n"
          ]
        }
      ]
    },
    {
      "cell_type": "markdown",
      "source": [
        "### Methods: AGGREGATIONS"
      ],
      "metadata": {
        "id": "psv6LVD8TJIm"
      }
    },
    {
      "cell_type": "code",
      "source": [
        "my_series = pl.Series(\"a\", [1, 2, 3, 4, 5])\n",
        "print(my_series.min())\n",
        "print(my_series.max())"
      ],
      "metadata": {
        "colab": {
          "base_uri": "https://localhost:8080/"
        },
        "id": "ijx3igD-TMs8",
        "outputId": "a83067d0-d31b-4733-a688-af885bfec915"
      },
      "execution_count": null,
      "outputs": [
        {
          "output_type": "stream",
          "name": "stdout",
          "text": [
            "1\n",
            "5\n"
          ]
        }
      ]
    },
    {
      "cell_type": "markdown",
      "source": [
        "### Methods: STRING "
      ],
      "metadata": {
        "id": "Ph5AV8jbTYm_"
      }
    },
    {
      "cell_type": "code",
      "source": [
        "my_series = pl.Series(\"a\", [\"polar\", \"bear\", \"arctic\", \"polar fox\", \"polar bear\"])\n",
        "my_series_2 = my_series.str.replace(\"polar\", \"pola\")\n",
        "print(my_series_2)"
      ],
      "metadata": {
        "colab": {
          "base_uri": "https://localhost:8080/"
        },
        "id": "oAoBAuiDTaIq",
        "outputId": "cf501e39-b521-4ff2-bbb0-2b43e176be64"
      },
      "execution_count": null,
      "outputs": [
        {
          "output_type": "stream",
          "name": "stdout",
          "text": [
            "shape: (5,)\n",
            "Series: 'a' [str]\n",
            "[\n",
            "\t\"pola\"\n",
            "\t\"bear\"\n",
            "\t\"arctic\"\n",
            "\t\"pola fox\"\n",
            "\t\"pola bear\"\n",
            "]\n"
          ]
        }
      ]
    },
    {
      "cell_type": "markdown",
      "source": [
        "# Methods: DATETIME "
      ],
      "metadata": {
        "id": "0dgspAN2Tgi7"
      }
    },
    {
      "cell_type": "code",
      "source": [
        "from datetime import datetime\n",
        "\n",
        "t_start = datetime(2001, 1, 1)\n",
        "t_stop = datetime(2001, 1, 9)\n",
        "my_series = pl.date_range(t_start, t_stop, interval=\"2d\")\n",
        "my_series.dt.day()\n",
        "print(my_series)"
      ],
      "metadata": {
        "colab": {
          "base_uri": "https://localhost:8080/"
        },
        "id": "l2yUkawlTiu8",
        "outputId": "091c35e6-515d-4200-df67-dd30467a370e"
      },
      "execution_count": null,
      "outputs": [
        {
          "output_type": "stream",
          "name": "stdout",
          "text": [
            "shape: (5,)\n",
            "Series: '' [datetime[μs]]\n",
            "[\n",
            "\t2001-01-01 00:00:00\n",
            "\t2001-01-03 00:00:00\n",
            "\t2001-01-05 00:00:00\n",
            "\t2001-01-07 00:00:00\n",
            "\t2001-01-09 00:00:00\n",
            "]\n"
          ]
        }
      ]
    },
    {
      "cell_type": "markdown",
      "source": [
        "## DataFrame "
      ],
      "metadata": {
        "id": "IZW3MDEyTubY"
      }
    },
    {
      "cell_type": "code",
      "source": [
        "df = pl.DataFrame(\n",
        "    {\n",
        "        \"integer\": [1, 2, 3, 4, 5],\n",
        "        \"date\": [\n",
        "            datetime(2022, 1, 1),\n",
        "            datetime(2022, 1, 2),\n",
        "            datetime(2022, 1, 3),\n",
        "            datetime(2022, 1, 4),\n",
        "            datetime(2022, 1, 5),\n",
        "        ],\n",
        "        \"float\": [4.0, 5.0, 6.0, 7.0, 8.0],\n",
        "    }\n",
        ")\n",
        "\n",
        "print(df)"
      ],
      "metadata": {
        "colab": {
          "base_uri": "https://localhost:8080/"
        },
        "id": "GYAt4F3TTw-p",
        "outputId": "811284bd-ac5e-4782-92cc-b5f0c4e44a2e"
      },
      "execution_count": null,
      "outputs": [
        {
          "output_type": "stream",
          "name": "stdout",
          "text": [
            "shape: (5, 3)\n",
            "┌─────────┬─────────────────────┬───────┐\n",
            "│ integer ┆ date                ┆ float │\n",
            "│ ---     ┆ ---                 ┆ ---   │\n",
            "│ i64     ┆ datetime[μs]        ┆ f64   │\n",
            "╞═════════╪═════════════════════╪═══════╡\n",
            "│ 1       ┆ 2022-01-01 00:00:00 ┆ 4.0   │\n",
            "│ 2       ┆ 2022-01-02 00:00:00 ┆ 5.0   │\n",
            "│ 3       ┆ 2022-01-03 00:00:00 ┆ 6.0   │\n",
            "│ 4       ┆ 2022-01-04 00:00:00 ┆ 7.0   │\n",
            "│ 5       ┆ 2022-01-05 00:00:00 ┆ 8.0   │\n",
            "└─────────┴─────────────────────┴───────┘\n"
          ]
        }
      ]
    },
    {
      "cell_type": "code",
      "source": [
        "df.head(3)"
      ],
      "metadata": {
        "colab": {
          "base_uri": "https://localhost:8080/",
          "height": 192
        },
        "id": "CKtkHGsyT2Xe",
        "outputId": "92b36e01-900e-45f6-d064-3c10ba83164f"
      },
      "execution_count": null,
      "outputs": [
        {
          "output_type": "execute_result",
          "data": {
            "text/plain": [
              "shape: (3, 3)\n",
              "┌─────────┬─────────────────────┬───────┐\n",
              "│ integer ┆ date                ┆ float │\n",
              "│ ---     ┆ ---                 ┆ ---   │\n",
              "│ i64     ┆ datetime[μs]        ┆ f64   │\n",
              "╞═════════╪═════════════════════╪═══════╡\n",
              "│ 1       ┆ 2022-01-01 00:00:00 ┆ 4.0   │\n",
              "│ 2       ┆ 2022-01-02 00:00:00 ┆ 5.0   │\n",
              "│ 3       ┆ 2022-01-03 00:00:00 ┆ 6.0   │\n",
              "└─────────┴─────────────────────┴───────┘"
            ],
            "text/html": [
              "<div><style>\n",
              ".dataframe > thead > tr > th,\n",
              ".dataframe > tbody > tr > td {\n",
              "  text-align: right;\n",
              "}\n",
              "</style>\n",
              "<small>shape: (3, 3)</small><table border=\"1\" class=\"dataframe\"><thead><tr><th>integer</th><th>date</th><th>float</th></tr><tr><td>i64</td><td>datetime[μs]</td><td>f64</td></tr></thead><tbody><tr><td>1</td><td>2022-01-01 00:00:00</td><td>4.0</td></tr><tr><td>2</td><td>2022-01-02 00:00:00</td><td>5.0</td></tr><tr><td>3</td><td>2022-01-03 00:00:00</td><td>6.0</td></tr></tbody></table></div>"
            ]
          },
          "metadata": {},
          "execution_count": 11
        }
      ]
    },
    {
      "cell_type": "code",
      "source": [
        "df.tail(3)"
      ],
      "metadata": {
        "colab": {
          "base_uri": "https://localhost:8080/",
          "height": 192
        },
        "id": "xzb1uxfJT5KW",
        "outputId": "5a196489-1c9d-4eb4-fde2-c6ca5f04180c"
      },
      "execution_count": null,
      "outputs": [
        {
          "output_type": "execute_result",
          "data": {
            "text/plain": [
              "shape: (3, 3)\n",
              "┌─────────┬─────────────────────┬───────┐\n",
              "│ integer ┆ date                ┆ float │\n",
              "│ ---     ┆ ---                 ┆ ---   │\n",
              "│ i64     ┆ datetime[μs]        ┆ f64   │\n",
              "╞═════════╪═════════════════════╪═══════╡\n",
              "│ 3       ┆ 2022-01-03 00:00:00 ┆ 6.0   │\n",
              "│ 4       ┆ 2022-01-04 00:00:00 ┆ 7.0   │\n",
              "│ 5       ┆ 2022-01-05 00:00:00 ┆ 8.0   │\n",
              "└─────────┴─────────────────────┴───────┘"
            ],
            "text/html": [
              "<div><style>\n",
              ".dataframe > thead > tr > th,\n",
              ".dataframe > tbody > tr > td {\n",
              "  text-align: right;\n",
              "}\n",
              "</style>\n",
              "<small>shape: (3, 3)</small><table border=\"1\" class=\"dataframe\"><thead><tr><th>integer</th><th>date</th><th>float</th></tr><tr><td>i64</td><td>datetime[μs]</td><td>f64</td></tr></thead><tbody><tr><td>3</td><td>2022-01-03 00:00:00</td><td>6.0</td></tr><tr><td>4</td><td>2022-01-04 00:00:00</td><td>7.0</td></tr><tr><td>5</td><td>2022-01-05 00:00:00</td><td>8.0</td></tr></tbody></table></div>"
            ]
          },
          "metadata": {},
          "execution_count": 12
        }
      ]
    },
    {
      "cell_type": "code",
      "source": [
        "df.describe()"
      ],
      "metadata": {
        "colab": {
          "base_uri": "https://localhost:8080/",
          "height": 380
        },
        "id": "aa8gMSoBUU0x",
        "outputId": "86fa47a9-96c8-4edd-bf1a-5465dfe117e6"
      },
      "execution_count": null,
      "outputs": [
        {
          "output_type": "execute_result",
          "data": {
            "text/plain": [
              "shape: (9, 4)\n",
              "┌────────────┬──────────┬────────────────────────────┬──────────┐\n",
              "│ describe   ┆ integer  ┆ date                       ┆ float    │\n",
              "│ ---        ┆ ---      ┆ ---                        ┆ ---      │\n",
              "│ str        ┆ f64      ┆ str                        ┆ f64      │\n",
              "╞════════════╪══════════╪════════════════════════════╪══════════╡\n",
              "│ count      ┆ 5.0      ┆ 5                          ┆ 5.0      │\n",
              "│ null_count ┆ 0.0      ┆ 0                          ┆ 0.0      │\n",
              "│ mean       ┆ 3.0      ┆ null                       ┆ 6.0      │\n",
              "│ std        ┆ 1.581139 ┆ null                       ┆ 1.581139 │\n",
              "│ min        ┆ 1.0      ┆ 2022-01-01 00:00:00.000000 ┆ 4.0      │\n",
              "│ max        ┆ 5.0      ┆ 2022-01-05 00:00:00.000000 ┆ 8.0      │\n",
              "│ median     ┆ 3.0      ┆ null                       ┆ 6.0      │\n",
              "│ 25%        ┆ 2.0      ┆ null                       ┆ 5.0      │\n",
              "│ 75%        ┆ 4.0      ┆ null                       ┆ 7.0      │\n",
              "└────────────┴──────────┴────────────────────────────┴──────────┘"
            ],
            "text/html": [
              "<div><style>\n",
              ".dataframe > thead > tr > th,\n",
              ".dataframe > tbody > tr > td {\n",
              "  text-align: right;\n",
              "}\n",
              "</style>\n",
              "<small>shape: (9, 4)</small><table border=\"1\" class=\"dataframe\"><thead><tr><th>describe</th><th>integer</th><th>date</th><th>float</th></tr><tr><td>str</td><td>f64</td><td>str</td><td>f64</td></tr></thead><tbody><tr><td>&quot;count&quot;</td><td>5.0</td><td>&quot;5&quot;</td><td>5.0</td></tr><tr><td>&quot;null_count&quot;</td><td>0.0</td><td>&quot;0&quot;</td><td>0.0</td></tr><tr><td>&quot;mean&quot;</td><td>3.0</td><td>null</td><td>6.0</td></tr><tr><td>&quot;std&quot;</td><td>1.581139</td><td>null</td><td>1.581139</td></tr><tr><td>&quot;min&quot;</td><td>1.0</td><td>&quot;2022-01-01 00:…</td><td>4.0</td></tr><tr><td>&quot;max&quot;</td><td>5.0</td><td>&quot;2022-01-05 00:…</td><td>8.0</td></tr><tr><td>&quot;median&quot;</td><td>3.0</td><td>null</td><td>6.0</td></tr><tr><td>&quot;25%&quot;</td><td>2.0</td><td>null</td><td>5.0</td></tr><tr><td>&quot;75%&quot;</td><td>4.0</td><td>null</td><td>7.0</td></tr></tbody></table></div>"
            ]
          },
          "metadata": {},
          "execution_count": 16
        }
      ]
    },
    {
      "cell_type": "markdown",
      "source": [
        "# Reading & Writing "
      ],
      "metadata": {
        "id": "vINQeTn-UqCZ"
      }
    },
    {
      "cell_type": "code",
      "source": [
        "df = pl.DataFrame(\n",
        "    {\n",
        "        \"integer\": [1, 2, 3],\n",
        "        \"date\": [\n",
        "            datetime(2022, 1, 1),\n",
        "            datetime(2022, 1, 2),\n",
        "            datetime(2022, 1, 3),\n",
        "        ],\n",
        "        \"float\": [4.0, 5.0, 6.0],\n",
        "    }\n",
        ")\n",
        "\n",
        "df"
      ],
      "metadata": {
        "colab": {
          "base_uri": "https://localhost:8080/",
          "height": 192
        },
        "id": "TV3LsYpTUsdB",
        "outputId": "fcfaec5f-dce6-439b-9bfb-d9f27f609ed0"
      },
      "execution_count": null,
      "outputs": [
        {
          "output_type": "execute_result",
          "data": {
            "text/plain": [
              "shape: (3, 3)\n",
              "┌─────────┬─────────────────────┬───────┐\n",
              "│ integer ┆ date                ┆ float │\n",
              "│ ---     ┆ ---                 ┆ ---   │\n",
              "│ i64     ┆ datetime[μs]        ┆ f64   │\n",
              "╞═════════╪═════════════════════╪═══════╡\n",
              "│ 1       ┆ 2022-01-01 00:00:00 ┆ 4.0   │\n",
              "│ 2       ┆ 2022-01-02 00:00:00 ┆ 5.0   │\n",
              "│ 3       ┆ 2022-01-03 00:00:00 ┆ 6.0   │\n",
              "└─────────┴─────────────────────┴───────┘"
            ],
            "text/html": [
              "<div><style>\n",
              ".dataframe > thead > tr > th,\n",
              ".dataframe > tbody > tr > td {\n",
              "  text-align: right;\n",
              "}\n",
              "</style>\n",
              "<small>shape: (3, 3)</small><table border=\"1\" class=\"dataframe\"><thead><tr><th>integer</th><th>date</th><th>float</th></tr><tr><td>i64</td><td>datetime[μs]</td><td>f64</td></tr></thead><tbody><tr><td>1</td><td>2022-01-01 00:00:00</td><td>4.0</td></tr><tr><td>2</td><td>2022-01-02 00:00:00</td><td>5.0</td></tr><tr><td>3</td><td>2022-01-03 00:00:00</td><td>6.0</td></tr></tbody></table></div>"
            ]
          },
          "metadata": {},
          "execution_count": 18
        }
      ]
    },
    {
      "cell_type": "code",
      "source": [
        "# write csv\n",
        "df.write_csv(\"output.csv\")\n",
        "df_csv = pl.read_csv(\"output.csv\")\n",
        "\n",
        "df_csv"
      ],
      "metadata": {
        "colab": {
          "base_uri": "https://localhost:8080/",
          "height": 192
        },
        "id": "4SVSQpKXU1Jy",
        "outputId": "959d5878-4086-43f2-9baa-04f7e74403d9"
      },
      "execution_count": null,
      "outputs": [
        {
          "output_type": "execute_result",
          "data": {
            "text/plain": [
              "shape: (3, 3)\n",
              "┌─────────┬────────────────────────────┬───────┐\n",
              "│ integer ┆ date                       ┆ float │\n",
              "│ ---     ┆ ---                        ┆ ---   │\n",
              "│ i64     ┆ str                        ┆ f64   │\n",
              "╞═════════╪════════════════════════════╪═══════╡\n",
              "│ 1       ┆ 2022-01-01T00:00:00.000000 ┆ 4.0   │\n",
              "│ 2       ┆ 2022-01-02T00:00:00.000000 ┆ 5.0   │\n",
              "│ 3       ┆ 2022-01-03T00:00:00.000000 ┆ 6.0   │\n",
              "└─────────┴────────────────────────────┴───────┘"
            ],
            "text/html": [
              "<div><style>\n",
              ".dataframe > thead > tr > th,\n",
              ".dataframe > tbody > tr > td {\n",
              "  text-align: right;\n",
              "}\n",
              "</style>\n",
              "<small>shape: (3, 3)</small><table border=\"1\" class=\"dataframe\"><thead><tr><th>integer</th><th>date</th><th>float</th></tr><tr><td>i64</td><td>str</td><td>f64</td></tr></thead><tbody><tr><td>1</td><td>&quot;2022-01-01T00:…</td><td>4.0</td></tr><tr><td>2</td><td>&quot;2022-01-02T00:…</td><td>5.0</td></tr><tr><td>3</td><td>&quot;2022-01-03T00:…</td><td>6.0</td></tr></tbody></table></div>"
            ]
          },
          "metadata": {},
          "execution_count": 20
        }
      ]
    },
    {
      "cell_type": "code",
      "source": [
        "# Read csv \n",
        "df_csv = pl.read_csv(\"output.csv\", try_parse_dates=True)\n",
        "print(df_csv)"
      ],
      "metadata": {
        "colab": {
          "base_uri": "https://localhost:8080/"
        },
        "id": "3AtFmLJZU5dq",
        "outputId": "d9cdd45e-6d1e-45d7-b8c5-7060f9325146"
      },
      "execution_count": null,
      "outputs": [
        {
          "output_type": "stream",
          "name": "stdout",
          "text": [
            "shape: (3, 3)\n",
            "┌─────────┬─────────────────────┬───────┐\n",
            "│ integer ┆ date                ┆ float │\n",
            "│ ---     ┆ ---                 ┆ ---   │\n",
            "│ i64     ┆ datetime[μs]        ┆ f64   │\n",
            "╞═════════╪═════════════════════╪═══════╡\n",
            "│ 1       ┆ 2022-01-01 00:00:00 ┆ 4.0   │\n",
            "│ 2       ┆ 2022-01-02 00:00:00 ┆ 5.0   │\n",
            "│ 3       ┆ 2022-01-03 00:00:00 ┆ 6.0   │\n",
            "└─────────┴─────────────────────┴───────┘\n"
          ]
        }
      ]
    },
    {
      "cell_type": "code",
      "source": [
        "# write & read json \n",
        "df.write_json(\"output.json\")\n",
        "df_json = pl.read_json(\"output.json\")\n",
        "\n",
        "df_json"
      ],
      "metadata": {
        "colab": {
          "base_uri": "https://localhost:8080/",
          "height": 192
        },
        "id": "vEf1-dEZVBFq",
        "outputId": "9c520967-88c0-4636-d0ce-3b0d8b34cab5"
      },
      "execution_count": null,
      "outputs": [
        {
          "output_type": "execute_result",
          "data": {
            "text/plain": [
              "shape: (3, 3)\n",
              "┌─────────┬─────────────────────┬───────┐\n",
              "│ integer ┆ date                ┆ float │\n",
              "│ ---     ┆ ---                 ┆ ---   │\n",
              "│ i64     ┆ datetime[μs]        ┆ f64   │\n",
              "╞═════════╪═════════════════════╪═══════╡\n",
              "│ 1       ┆ 2022-01-01 00:00:00 ┆ 4.0   │\n",
              "│ 2       ┆ 2022-01-02 00:00:00 ┆ 5.0   │\n",
              "│ 3       ┆ 2022-01-03 00:00:00 ┆ 6.0   │\n",
              "└─────────┴─────────────────────┴───────┘"
            ],
            "text/html": [
              "<div><style>\n",
              ".dataframe > thead > tr > th,\n",
              ".dataframe > tbody > tr > td {\n",
              "  text-align: right;\n",
              "}\n",
              "</style>\n",
              "<small>shape: (3, 3)</small><table border=\"1\" class=\"dataframe\"><thead><tr><th>integer</th><th>date</th><th>float</th></tr><tr><td>i64</td><td>datetime[μs]</td><td>f64</td></tr></thead><tbody><tr><td>1</td><td>2022-01-01 00:00:00</td><td>4.0</td></tr><tr><td>2</td><td>2022-01-02 00:00:00</td><td>5.0</td></tr><tr><td>3</td><td>2022-01-03 00:00:00</td><td>6.0</td></tr></tbody></table></div>"
            ]
          },
          "metadata": {},
          "execution_count": 22
        }
      ]
    },
    {
      "cell_type": "markdown",
      "source": [
        "# Expressions"
      ],
      "metadata": {
        "id": "PGilm_GXVLok"
      }
    },
    {
      "cell_type": "code",
      "source": [
        "df.select(pl.col(\"*\"))"
      ],
      "metadata": {
        "colab": {
          "base_uri": "https://localhost:8080/",
          "height": 192
        },
        "id": "ijVgmQS8VTSr",
        "outputId": "63ef862b-1cc1-49ab-e169-9ca5dc2d5ad8"
      },
      "execution_count": null,
      "outputs": [
        {
          "output_type": "execute_result",
          "data": {
            "text/plain": [
              "shape: (3, 3)\n",
              "┌─────────┬─────────────────────┬───────┐\n",
              "│ integer ┆ date                ┆ float │\n",
              "│ ---     ┆ ---                 ┆ ---   │\n",
              "│ i64     ┆ datetime[μs]        ┆ f64   │\n",
              "╞═════════╪═════════════════════╪═══════╡\n",
              "│ 1       ┆ 2022-01-01 00:00:00 ┆ 4.0   │\n",
              "│ 2       ┆ 2022-01-02 00:00:00 ┆ 5.0   │\n",
              "│ 3       ┆ 2022-01-03 00:00:00 ┆ 6.0   │\n",
              "└─────────┴─────────────────────┴───────┘"
            ],
            "text/html": [
              "<div><style>\n",
              ".dataframe > thead > tr > th,\n",
              ".dataframe > tbody > tr > td {\n",
              "  text-align: right;\n",
              "}\n",
              "</style>\n",
              "<small>shape: (3, 3)</small><table border=\"1\" class=\"dataframe\"><thead><tr><th>integer</th><th>date</th><th>float</th></tr><tr><td>i64</td><td>datetime[μs]</td><td>f64</td></tr></thead><tbody><tr><td>1</td><td>2022-01-01 00:00:00</td><td>4.0</td></tr><tr><td>2</td><td>2022-01-02 00:00:00</td><td>5.0</td></tr><tr><td>3</td><td>2022-01-03 00:00:00</td><td>6.0</td></tr></tbody></table></div>"
            ]
          },
          "metadata": {},
          "execution_count": 24
        }
      ]
    },
    {
      "cell_type": "code",
      "source": [
        "df.select(pl.col([\"integer\", \"float\"]))"
      ],
      "metadata": {
        "colab": {
          "base_uri": "https://localhost:8080/",
          "height": 192
        },
        "id": "iyCEDg9TVYIj",
        "outputId": "e64bf0bf-e3fa-4ba1-c43e-aab51eafaa62"
      },
      "execution_count": null,
      "outputs": [
        {
          "output_type": "execute_result",
          "data": {
            "text/plain": [
              "shape: (3, 2)\n",
              "┌─────────┬───────┐\n",
              "│ integer ┆ float │\n",
              "│ ---     ┆ ---   │\n",
              "│ i64     ┆ f64   │\n",
              "╞═════════╪═══════╡\n",
              "│ 1       ┆ 4.0   │\n",
              "│ 2       ┆ 5.0   │\n",
              "│ 3       ┆ 6.0   │\n",
              "└─────────┴───────┘"
            ],
            "text/html": [
              "<div><style>\n",
              ".dataframe > thead > tr > th,\n",
              ".dataframe > tbody > tr > td {\n",
              "  text-align: right;\n",
              "}\n",
              "</style>\n",
              "<small>shape: (3, 2)</small><table border=\"1\" class=\"dataframe\"><thead><tr><th>integer</th><th>float</th></tr><tr><td>i64</td><td>f64</td></tr></thead><tbody><tr><td>1</td><td>4.0</td></tr><tr><td>2</td><td>5.0</td></tr><tr><td>3</td><td>6.0</td></tr></tbody></table></div>"
            ]
          },
          "metadata": {},
          "execution_count": 25
        }
      ]
    },
    {
      "cell_type": "code",
      "source": [
        "df.select([pl.col(\"integer\"), pl.col(\"float\")]).limit(2)"
      ],
      "metadata": {
        "colab": {
          "base_uri": "https://localhost:8080/",
          "height": 161
        },
        "id": "2oT7Z449VfEm",
        "outputId": "23b78ccf-8b0e-4f06-da6c-3f2088a8f269"
      },
      "execution_count": null,
      "outputs": [
        {
          "output_type": "execute_result",
          "data": {
            "text/plain": [
              "shape: (2, 2)\n",
              "┌─────────┬───────┐\n",
              "│ integer ┆ float │\n",
              "│ ---     ┆ ---   │\n",
              "│ i64     ┆ f64   │\n",
              "╞═════════╪═══════╡\n",
              "│ 1       ┆ 4.0   │\n",
              "│ 2       ┆ 5.0   │\n",
              "└─────────┴───────┘"
            ],
            "text/html": [
              "<div><style>\n",
              ".dataframe > thead > tr > th,\n",
              ".dataframe > tbody > tr > td {\n",
              "  text-align: right;\n",
              "}\n",
              "</style>\n",
              "<small>shape: (2, 2)</small><table border=\"1\" class=\"dataframe\"><thead><tr><th>integer</th><th>float</th></tr><tr><td>i64</td><td>f64</td></tr></thead><tbody><tr><td>1</td><td>4.0</td></tr><tr><td>2</td><td>5.0</td></tr></tbody></table></div>"
            ]
          },
          "metadata": {},
          "execution_count": 27
        }
      ]
    },
    {
      "cell_type": "code",
      "source": [
        "df.select([pl.exclude(\"integer\")])"
      ],
      "metadata": {
        "colab": {
          "base_uri": "https://localhost:8080/",
          "height": 192
        },
        "id": "DPxnHMpAVkaD",
        "outputId": "58b9bcbe-34c8-4145-8c56-b1ccf1e4637c"
      },
      "execution_count": null,
      "outputs": [
        {
          "output_type": "execute_result",
          "data": {
            "text/plain": [
              "shape: (3, 2)\n",
              "┌─────────────────────┬───────┐\n",
              "│ date                ┆ float │\n",
              "│ ---                 ┆ ---   │\n",
              "│ datetime[μs]        ┆ f64   │\n",
              "╞═════════════════════╪═══════╡\n",
              "│ 2022-01-01 00:00:00 ┆ 4.0   │\n",
              "│ 2022-01-02 00:00:00 ┆ 5.0   │\n",
              "│ 2022-01-03 00:00:00 ┆ 6.0   │\n",
              "└─────────────────────┴───────┘"
            ],
            "text/html": [
              "<div><style>\n",
              ".dataframe > thead > tr > th,\n",
              ".dataframe > tbody > tr > td {\n",
              "  text-align: right;\n",
              "}\n",
              "</style>\n",
              "<small>shape: (3, 2)</small><table border=\"1\" class=\"dataframe\"><thead><tr><th>date</th><th>float</th></tr><tr><td>datetime[μs]</td><td>f64</td></tr></thead><tbody><tr><td>2022-01-01 00:00:00</td><td>4.0</td></tr><tr><td>2022-01-02 00:00:00</td><td>5.0</td></tr><tr><td>2022-01-03 00:00:00</td><td>6.0</td></tr></tbody></table></div>"
            ]
          },
          "metadata": {},
          "execution_count": 28
        }
      ]
    },
    {
      "cell_type": "code",
      "source": [
        "# filter \n",
        "df.filter(\n",
        "    pl.col(\"float\").is_between(4, 5),\n",
        ")"
      ],
      "metadata": {
        "colab": {
          "base_uri": "https://localhost:8080/",
          "height": 161
        },
        "id": "7YxamIUcVvbc",
        "outputId": "b2592a09-501b-4fec-afaf-4f1489d12b9e"
      },
      "execution_count": null,
      "outputs": [
        {
          "output_type": "execute_result",
          "data": {
            "text/plain": [
              "shape: (2, 3)\n",
              "┌─────────┬─────────────────────┬───────┐\n",
              "│ integer ┆ date                ┆ float │\n",
              "│ ---     ┆ ---                 ┆ ---   │\n",
              "│ i64     ┆ datetime[μs]        ┆ f64   │\n",
              "╞═════════╪═════════════════════╪═══════╡\n",
              "│ 1       ┆ 2022-01-01 00:00:00 ┆ 4.0   │\n",
              "│ 2       ┆ 2022-01-02 00:00:00 ┆ 5.0   │\n",
              "└─────────┴─────────────────────┴───────┘"
            ],
            "text/html": [
              "<div><style>\n",
              ".dataframe > thead > tr > th,\n",
              ".dataframe > tbody > tr > td {\n",
              "  text-align: right;\n",
              "}\n",
              "</style>\n",
              "<small>shape: (2, 3)</small><table border=\"1\" class=\"dataframe\"><thead><tr><th>integer</th><th>date</th><th>float</th></tr><tr><td>i64</td><td>datetime[μs]</td><td>f64</td></tr></thead><tbody><tr><td>1</td><td>2022-01-01 00:00:00</td><td>4.0</td></tr><tr><td>2</td><td>2022-01-02 00:00:00</td><td>5.0</td></tr></tbody></table></div>"
            ]
          },
          "metadata": {},
          "execution_count": 30
        }
      ]
    },
    {
      "cell_type": "code",
      "source": [
        "import numpy as np \n",
        "\n",
        "df = pl.DataFrame(\n",
        "    {\n",
        "        \"integer\": [1, 2, 3, 4, 5, 6, 7],\n",
        "        \"date\": [\n",
        "            datetime(2022, 1, 1),\n",
        "            datetime(2022, 1, 2),\n",
        "            datetime(2022, 1, 3),\n",
        "            datetime(2022, 1, 4),\n",
        "            datetime(2022, 1, 5),\n",
        "            datetime(2022, 1, 6),\n",
        "            datetime(2022, 1, 7),\n",
        "        ],\n",
        "        \"float\": [4.0, 5.0, 6.0, 7.0, np.nan, np.nan, 9.0],\n",
        "    }\n",
        ")\n",
        "\n",
        "df"
      ],
      "metadata": {
        "colab": {
          "base_uri": "https://localhost:8080/",
          "height": 318
        },
        "id": "r7W4Kf2NWC0t",
        "outputId": "49018253-f52b-4771-ea9d-342d92841a65"
      },
      "execution_count": null,
      "outputs": [
        {
          "output_type": "execute_result",
          "data": {
            "text/plain": [
              "shape: (7, 3)\n",
              "┌─────────┬─────────────────────┬───────┐\n",
              "│ integer ┆ date                ┆ float │\n",
              "│ ---     ┆ ---                 ┆ ---   │\n",
              "│ i64     ┆ datetime[μs]        ┆ f64   │\n",
              "╞═════════╪═════════════════════╪═══════╡\n",
              "│ 1       ┆ 2022-01-01 00:00:00 ┆ 4.0   │\n",
              "│ 2       ┆ 2022-01-02 00:00:00 ┆ 5.0   │\n",
              "│ 3       ┆ 2022-01-03 00:00:00 ┆ 6.0   │\n",
              "│ 4       ┆ 2022-01-04 00:00:00 ┆ 7.0   │\n",
              "│ 5       ┆ 2022-01-05 00:00:00 ┆ NaN   │\n",
              "│ 6       ┆ 2022-01-06 00:00:00 ┆ NaN   │\n",
              "│ 7       ┆ 2022-01-07 00:00:00 ┆ 9.0   │\n",
              "└─────────┴─────────────────────┴───────┘"
            ],
            "text/html": [
              "<div><style>\n",
              ".dataframe > thead > tr > th,\n",
              ".dataframe > tbody > tr > td {\n",
              "  text-align: right;\n",
              "}\n",
              "</style>\n",
              "<small>shape: (7, 3)</small><table border=\"1\" class=\"dataframe\"><thead><tr><th>integer</th><th>date</th><th>float</th></tr><tr><td>i64</td><td>datetime[μs]</td><td>f64</td></tr></thead><tbody><tr><td>1</td><td>2022-01-01 00:00:00</td><td>4.0</td></tr><tr><td>2</td><td>2022-01-02 00:00:00</td><td>5.0</td></tr><tr><td>3</td><td>2022-01-03 00:00:00</td><td>6.0</td></tr><tr><td>4</td><td>2022-01-04 00:00:00</td><td>7.0</td></tr><tr><td>5</td><td>2022-01-05 00:00:00</td><td>NaN</td></tr><tr><td>6</td><td>2022-01-06 00:00:00</td><td>NaN</td></tr><tr><td>7</td><td>2022-01-07 00:00:00</td><td>9.0</td></tr></tbody></table></div>"
            ]
          },
          "metadata": {},
          "execution_count": 32
        }
      ]
    },
    {
      "cell_type": "code",
      "source": [
        "df.filter((pl.col(\"integer\") > 3) & (pl.col(\"float\").is_not_nan()))"
      ],
      "metadata": {
        "colab": {
          "base_uri": "https://localhost:8080/",
          "height": 161
        },
        "id": "odXYhm8IWpK-",
        "outputId": "8bedc061-755f-4f5d-cfee-8136c8397b6a"
      },
      "execution_count": null,
      "outputs": [
        {
          "output_type": "execute_result",
          "data": {
            "text/plain": [
              "shape: (2, 3)\n",
              "┌─────────┬─────────────────────┬───────┐\n",
              "│ integer ┆ date                ┆ float │\n",
              "│ ---     ┆ ---                 ┆ ---   │\n",
              "│ i64     ┆ datetime[μs]        ┆ f64   │\n",
              "╞═════════╪═════════════════════╪═══════╡\n",
              "│ 4       ┆ 2022-01-04 00:00:00 ┆ 7.0   │\n",
              "│ 7       ┆ 2022-01-07 00:00:00 ┆ 9.0   │\n",
              "└─────────┴─────────────────────┴───────┘"
            ],
            "text/html": [
              "<div><style>\n",
              ".dataframe > thead > tr > th,\n",
              ".dataframe > tbody > tr > td {\n",
              "  text-align: right;\n",
              "}\n",
              "</style>\n",
              "<small>shape: (2, 3)</small><table border=\"1\" class=\"dataframe\"><thead><tr><th>integer</th><th>date</th><th>float</th></tr><tr><td>i64</td><td>datetime[μs]</td><td>f64</td></tr></thead><tbody><tr><td>4</td><td>2022-01-04 00:00:00</td><td>7.0</td></tr><tr><td>7</td><td>2022-01-07 00:00:00</td><td>9.0</td></tr></tbody></table></div>"
            ]
          },
          "metadata": {},
          "execution_count": 33
        }
      ]
    },
    {
      "cell_type": "markdown",
      "source": [
        "**with_columns** cho phép chúng ta tạo thêm 1 cột mới trong quá trình xử lý dữ liệu"
      ],
      "metadata": {
        "id": "gqFuFOqaW4yh"
      }
    },
    {
      "cell_type": "code",
      "source": [
        "df = df.with_columns([pl.col(\"integer\").sum().alias(\"sum\"), (pl.col(\"float\") - 1).alias(\"sub-1\")])"
      ],
      "metadata": {
        "id": "AGywlrgmWwYM"
      },
      "execution_count": null,
      "outputs": []
    },
    {
      "cell_type": "code",
      "source": [
        "# Group_by \n",
        "df2 = pl.DataFrame(\n",
        "    {\n",
        "        \"x\": np.arange(0, 8),\n",
        "        \"y\": [\"A\", \"A\", \"A\", \"B\", \"B\", \"C\", \"X\", \"X\"],\n",
        "    }\n",
        ")\n",
        "\n",
        "df2"
      ],
      "metadata": {
        "colab": {
          "base_uri": "https://localhost:8080/",
          "height": 349
        },
        "id": "FTC9VAfxXSXs",
        "outputId": "b4443bf1-db48-4405-ae1c-ae70feb6eb79"
      },
      "execution_count": null,
      "outputs": [
        {
          "output_type": "execute_result",
          "data": {
            "text/plain": [
              "shape: (8, 2)\n",
              "┌─────┬─────┐\n",
              "│ x   ┆ y   │\n",
              "│ --- ┆ --- │\n",
              "│ i64 ┆ str │\n",
              "╞═════╪═════╡\n",
              "│ 0   ┆ A   │\n",
              "│ 1   ┆ A   │\n",
              "│ 2   ┆ A   │\n",
              "│ 3   ┆ B   │\n",
              "│ 4   ┆ B   │\n",
              "│ 5   ┆ C   │\n",
              "│ 6   ┆ X   │\n",
              "│ 7   ┆ X   │\n",
              "└─────┴─────┘"
            ],
            "text/html": [
              "<div><style>\n",
              ".dataframe > thead > tr > th,\n",
              ".dataframe > tbody > tr > td {\n",
              "  text-align: right;\n",
              "}\n",
              "</style>\n",
              "<small>shape: (8, 2)</small><table border=\"1\" class=\"dataframe\"><thead><tr><th>x</th><th>y</th></tr><tr><td>i64</td><td>str</td></tr></thead><tbody><tr><td>0</td><td>&quot;A&quot;</td></tr><tr><td>1</td><td>&quot;A&quot;</td></tr><tr><td>2</td><td>&quot;A&quot;</td></tr><tr><td>3</td><td>&quot;B&quot;</td></tr><tr><td>4</td><td>&quot;B&quot;</td></tr><tr><td>5</td><td>&quot;C&quot;</td></tr><tr><td>6</td><td>&quot;X&quot;</td></tr><tr><td>7</td><td>&quot;X&quot;</td></tr></tbody></table></div>"
            ]
          },
          "metadata": {},
          "execution_count": 37
        }
      ]
    },
    {
      "cell_type": "code",
      "source": [
        "df2.groupby(\"y\", maintain_order=True).count()"
      ],
      "metadata": {
        "colab": {
          "base_uri": "https://localhost:8080/",
          "height": 224
        },
        "id": "CyaXbpEYXWJ5",
        "outputId": "587a6510-2126-4550-c9b9-b26d6b8f83b4"
      },
      "execution_count": null,
      "outputs": [
        {
          "output_type": "execute_result",
          "data": {
            "text/plain": [
              "shape: (4, 2)\n",
              "┌─────┬───────┐\n",
              "│ y   ┆ count │\n",
              "│ --- ┆ ---   │\n",
              "│ str ┆ u32   │\n",
              "╞═════╪═══════╡\n",
              "│ A   ┆ 3     │\n",
              "│ B   ┆ 2     │\n",
              "│ C   ┆ 1     │\n",
              "│ X   ┆ 2     │\n",
              "└─────┴───────┘"
            ],
            "text/html": [
              "<div><style>\n",
              ".dataframe > thead > tr > th,\n",
              ".dataframe > tbody > tr > td {\n",
              "  text-align: right;\n",
              "}\n",
              "</style>\n",
              "<small>shape: (4, 2)</small><table border=\"1\" class=\"dataframe\"><thead><tr><th>y</th><th>count</th></tr><tr><td>str</td><td>u32</td></tr></thead><tbody><tr><td>&quot;A&quot;</td><td>3</td></tr><tr><td>&quot;B&quot;</td><td>2</td></tr><tr><td>&quot;C&quot;</td><td>1</td></tr><tr><td>&quot;X&quot;</td><td>2</td></tr></tbody></table></div>"
            ]
          },
          "metadata": {},
          "execution_count": 36
        }
      ]
    },
    {
      "cell_type": "code",
      "source": [
        "df2.groupby(\"y\", maintain_order=True).agg(\n",
        "    [\n",
        "        pl.col(\"*\").count().alias(\"count\"),\n",
        "        pl.col(\"*\").sum().alias(\"sum\"),\n",
        "    ]\n",
        ")"
      ],
      "metadata": {
        "colab": {
          "base_uri": "https://localhost:8080/",
          "height": 224
        },
        "id": "SKCdmnBUXfbY",
        "outputId": "f8176250-5b66-449d-e2d7-284d080da0ee"
      },
      "execution_count": null,
      "outputs": [
        {
          "output_type": "execute_result",
          "data": {
            "text/plain": [
              "shape: (4, 3)\n",
              "┌─────┬───────┬─────┐\n",
              "│ y   ┆ count ┆ sum │\n",
              "│ --- ┆ ---   ┆ --- │\n",
              "│ str ┆ u32   ┆ i64 │\n",
              "╞═════╪═══════╪═════╡\n",
              "│ A   ┆ 3     ┆ 3   │\n",
              "│ B   ┆ 2     ┆ 7   │\n",
              "│ C   ┆ 1     ┆ 5   │\n",
              "│ X   ┆ 2     ┆ 13  │\n",
              "└─────┴───────┴─────┘"
            ],
            "text/html": [
              "<div><style>\n",
              ".dataframe > thead > tr > th,\n",
              ".dataframe > tbody > tr > td {\n",
              "  text-align: right;\n",
              "}\n",
              "</style>\n",
              "<small>shape: (4, 3)</small><table border=\"1\" class=\"dataframe\"><thead><tr><th>y</th><th>count</th><th>sum</th></tr><tr><td>str</td><td>u32</td><td>i64</td></tr></thead><tbody><tr><td>&quot;A&quot;</td><td>3</td><td>3</td></tr><tr><td>&quot;B&quot;</td><td>2</td><td>7</td></tr><tr><td>&quot;C&quot;</td><td>1</td><td>5</td></tr><tr><td>&quot;X&quot;</td><td>2</td><td>13</td></tr></tbody></table></div>"
            ]
          },
          "metadata": {},
          "execution_count": 38
        }
      ]
    },
    {
      "cell_type": "code",
      "source": [
        "df"
      ],
      "metadata": {
        "colab": {
          "base_uri": "https://localhost:8080/",
          "height": 318
        },
        "id": "oNlaLTo7X4Rn",
        "outputId": "9273c580-a23d-4d93-d47d-e93bcbddad6d"
      },
      "execution_count": null,
      "outputs": [
        {
          "output_type": "execute_result",
          "data": {
            "text/plain": [
              "shape: (7, 5)\n",
              "┌─────────┬─────────────────────┬───────┬─────┬───────┐\n",
              "│ integer ┆ date                ┆ float ┆ sum ┆ sub-1 │\n",
              "│ ---     ┆ ---                 ┆ ---   ┆ --- ┆ ---   │\n",
              "│ i64     ┆ datetime[μs]        ┆ f64   ┆ i64 ┆ f64   │\n",
              "╞═════════╪═════════════════════╪═══════╪═════╪═══════╡\n",
              "│ 1       ┆ 2022-01-01 00:00:00 ┆ 4.0   ┆ 28  ┆ 3.0   │\n",
              "│ 2       ┆ 2022-01-02 00:00:00 ┆ 5.0   ┆ 28  ┆ 4.0   │\n",
              "│ 3       ┆ 2022-01-03 00:00:00 ┆ 6.0   ┆ 28  ┆ 5.0   │\n",
              "│ 4       ┆ 2022-01-04 00:00:00 ┆ 7.0   ┆ 28  ┆ 6.0   │\n",
              "│ 5       ┆ 2022-01-05 00:00:00 ┆ NaN   ┆ 28  ┆ NaN   │\n",
              "│ 6       ┆ 2022-01-06 00:00:00 ┆ NaN   ┆ 28  ┆ NaN   │\n",
              "│ 7       ┆ 2022-01-07 00:00:00 ┆ 9.0   ┆ 28  ┆ 8.0   │\n",
              "└─────────┴─────────────────────┴───────┴─────┴───────┘"
            ],
            "text/html": [
              "<div><style>\n",
              ".dataframe > thead > tr > th,\n",
              ".dataframe > tbody > tr > td {\n",
              "  text-align: right;\n",
              "}\n",
              "</style>\n",
              "<small>shape: (7, 5)</small><table border=\"1\" class=\"dataframe\"><thead><tr><th>integer</th><th>date</th><th>float</th><th>sum</th><th>sub-1</th></tr><tr><td>i64</td><td>datetime[μs]</td><td>f64</td><td>i64</td><td>f64</td></tr></thead><tbody><tr><td>1</td><td>2022-01-01 00:00:00</td><td>4.0</td><td>28</td><td>3.0</td></tr><tr><td>2</td><td>2022-01-02 00:00:00</td><td>5.0</td><td>28</td><td>4.0</td></tr><tr><td>3</td><td>2022-01-03 00:00:00</td><td>6.0</td><td>28</td><td>5.0</td></tr><tr><td>4</td><td>2022-01-04 00:00:00</td><td>7.0</td><td>28</td><td>6.0</td></tr><tr><td>5</td><td>2022-01-05 00:00:00</td><td>NaN</td><td>28</td><td>NaN</td></tr><tr><td>6</td><td>2022-01-06 00:00:00</td><td>NaN</td><td>28</td><td>NaN</td></tr><tr><td>7</td><td>2022-01-07 00:00:00</td><td>9.0</td><td>28</td><td>8.0</td></tr></tbody></table></div>"
            ]
          },
          "metadata": {},
          "execution_count": 42
        }
      ]
    },
    {
      "cell_type": "code",
      "source": [
        "df_x = df.with_columns((pl.col(\"integer\") * pl.col(\"sum\")).alias(\"integer * sum\")).select(\n",
        "    [pl.all().exclude([\"date\", \"float\"])]\n",
        ")\n",
        "\n",
        "df_x"
      ],
      "metadata": {
        "colab": {
          "base_uri": "https://localhost:8080/",
          "height": 318
        },
        "id": "xPZkr-LyXk3I",
        "outputId": "c1fba0b1-2870-462b-b313-2bd108334a95"
      },
      "execution_count": null,
      "outputs": [
        {
          "output_type": "execute_result",
          "data": {
            "text/plain": [
              "shape: (7, 4)\n",
              "┌─────────┬─────┬───────┬───────────────┐\n",
              "│ integer ┆ sum ┆ sub-1 ┆ integer * sum │\n",
              "│ ---     ┆ --- ┆ ---   ┆ ---           │\n",
              "│ i64     ┆ i64 ┆ f64   ┆ i64           │\n",
              "╞═════════╪═════╪═══════╪═══════════════╡\n",
              "│ 1       ┆ 28  ┆ 3.0   ┆ 28            │\n",
              "│ 2       ┆ 28  ┆ 4.0   ┆ 56            │\n",
              "│ 3       ┆ 28  ┆ 5.0   ┆ 84            │\n",
              "│ 4       ┆ 28  ┆ 6.0   ┆ 112           │\n",
              "│ 5       ┆ 28  ┆ NaN   ┆ 140           │\n",
              "│ 6       ┆ 28  ┆ NaN   ┆ 168           │\n",
              "│ 7       ┆ 28  ┆ 8.0   ┆ 196           │\n",
              "└─────────┴─────┴───────┴───────────────┘"
            ],
            "text/html": [
              "<div><style>\n",
              ".dataframe > thead > tr > th,\n",
              ".dataframe > tbody > tr > td {\n",
              "  text-align: right;\n",
              "}\n",
              "</style>\n",
              "<small>shape: (7, 4)</small><table border=\"1\" class=\"dataframe\"><thead><tr><th>integer</th><th>sum</th><th>sub-1</th><th>integer * sum</th></tr><tr><td>i64</td><td>i64</td><td>f64</td><td>i64</td></tr></thead><tbody><tr><td>1</td><td>28</td><td>3.0</td><td>28</td></tr><tr><td>2</td><td>28</td><td>4.0</td><td>56</td></tr><tr><td>3</td><td>28</td><td>5.0</td><td>84</td></tr><tr><td>4</td><td>28</td><td>6.0</td><td>112</td></tr><tr><td>5</td><td>28</td><td>NaN</td><td>140</td></tr><tr><td>6</td><td>28</td><td>NaN</td><td>168</td></tr><tr><td>7</td><td>28</td><td>8.0</td><td>196</td></tr></tbody></table></div>"
            ]
          },
          "metadata": {},
          "execution_count": 44
        }
      ]
    },
    {
      "cell_type": "markdown",
      "source": [
        "# Combine DF "
      ],
      "metadata": {
        "id": "uM0Ste5fYZAi"
      }
    },
    {
      "cell_type": "code",
      "source": [
        "# Join \n",
        "df = pl.DataFrame(\n",
        "    {\n",
        "        \"a\": np.arange(0, 8),\n",
        "        \"b\": np.random.rand(8),\n",
        "        \"d\": [1, 2.0, np.NaN, np.NaN, 0, -5, -42, None],\n",
        "    }\n",
        ")\n",
        "\n",
        "df2 = pl.DataFrame(\n",
        "    {\n",
        "        \"x\": np.arange(0, 8),\n",
        "        \"y\": [\"A\", \"A\", \"A\", \"B\", \"B\", \"C\", \"X\", \"X\"],\n",
        "    }\n",
        ")\n",
        "\n",
        "df_joined = df.join(df2, left_on=\"a\", right_on=\"x\")\n",
        "\n",
        "df_joined"
      ],
      "metadata": {
        "colab": {
          "base_uri": "https://localhost:8080/",
          "height": 349
        },
        "id": "U8PbY5kuYaC5",
        "outputId": "8c6046d0-1a73-47a8-a8fe-a3a184af5c45"
      },
      "execution_count": null,
      "outputs": [
        {
          "output_type": "execute_result",
          "data": {
            "text/plain": [
              "shape: (8, 4)\n",
              "┌─────┬──────────┬───────┬─────┐\n",
              "│ a   ┆ b        ┆ d     ┆ y   │\n",
              "│ --- ┆ ---      ┆ ---   ┆ --- │\n",
              "│ i64 ┆ f64      ┆ f64   ┆ str │\n",
              "╞═════╪══════════╪═══════╪═════╡\n",
              "│ 0   ┆ 0.748164 ┆ 1.0   ┆ A   │\n",
              "│ 1   ┆ 0.200531 ┆ 2.0   ┆ A   │\n",
              "│ 2   ┆ 0.035221 ┆ NaN   ┆ A   │\n",
              "│ 3   ┆ 0.267183 ┆ NaN   ┆ B   │\n",
              "│ 4   ┆ 0.804834 ┆ 0.0   ┆ B   │\n",
              "│ 5   ┆ 0.418853 ┆ -5.0  ┆ C   │\n",
              "│ 6   ┆ 0.322342 ┆ -42.0 ┆ X   │\n",
              "│ 7   ┆ 0.085542 ┆ null  ┆ X   │\n",
              "└─────┴──────────┴───────┴─────┘"
            ],
            "text/html": [
              "<div><style>\n",
              ".dataframe > thead > tr > th,\n",
              ".dataframe > tbody > tr > td {\n",
              "  text-align: right;\n",
              "}\n",
              "</style>\n",
              "<small>shape: (8, 4)</small><table border=\"1\" class=\"dataframe\"><thead><tr><th>a</th><th>b</th><th>d</th><th>y</th></tr><tr><td>i64</td><td>f64</td><td>f64</td><td>str</td></tr></thead><tbody><tr><td>0</td><td>0.748164</td><td>1.0</td><td>&quot;A&quot;</td></tr><tr><td>1</td><td>0.200531</td><td>2.0</td><td>&quot;A&quot;</td></tr><tr><td>2</td><td>0.035221</td><td>NaN</td><td>&quot;A&quot;</td></tr><tr><td>3</td><td>0.267183</td><td>NaN</td><td>&quot;B&quot;</td></tr><tr><td>4</td><td>0.804834</td><td>0.0</td><td>&quot;B&quot;</td></tr><tr><td>5</td><td>0.418853</td><td>-5.0</td><td>&quot;C&quot;</td></tr><tr><td>6</td><td>0.322342</td><td>-42.0</td><td>&quot;X&quot;</td></tr><tr><td>7</td><td>0.085542</td><td>null</td><td>&quot;X&quot;</td></tr></tbody></table></div>"
            ]
          },
          "metadata": {},
          "execution_count": 45
        }
      ]
    },
    {
      "cell_type": "markdown",
      "source": [
        "# Polars & Pandas "
      ],
      "metadata": {
        "id": "_CkCxIYMYrhn"
      }
    },
    {
      "cell_type": "code",
      "source": [
        "import pandas as pd "
      ],
      "metadata": {
        "id": "bopBcaXaYrJ0"
      },
      "execution_count": null,
      "outputs": []
    },
    {
      "cell_type": "code",
      "source": [
        "import os \n",
        "os.environ['KAGGLE_USERNAME'] = '' # username from the json file\n",
        "os.environ['KAGGLE_KEY'] = '' # key from the json file\n",
        "\n",
        "!kaggle datasets download -d openfoodfacts/world-food-facts"
      ],
      "metadata": {
        "colab": {
          "base_uri": "https://localhost:8080/"
        },
        "id": "CS7q_s8heP5M",
        "outputId": "21e3523b-dcea-46c2-888e-a4e9e6b62c99"
      },
      "execution_count": null,
      "outputs": [
        {
          "output_type": "stream",
          "name": "stdout",
          "text": [
            "Downloading world-food-facts.zip to /content\n",
            " 89% 97.0M/109M [00:01<00:00, 102MB/s]\n",
            "100% 109M/109M [00:01<00:00, 95.5MB/s]\n"
          ]
        }
      ]
    },
    {
      "cell_type": "code",
      "source": [
        "!unzip world-food-facts.zip "
      ],
      "metadata": {
        "colab": {
          "base_uri": "https://localhost:8080/"
        },
        "id": "QnasbF0fgkg-",
        "outputId": "86d0f67b-50f3-4099-eb44-73d1979342ff"
      },
      "execution_count": null,
      "outputs": [
        {
          "output_type": "stream",
          "name": "stdout",
          "text": [
            "Archive:  world-food-facts.zip\n",
            "  inflating: en.openfoodfacts.org.products.tsv  \n"
          ]
        }
      ]
    },
    {
      "cell_type": "code",
      "source": [
        "!pip install ipython-autotime\n",
        "%load_ext autotime"
      ],
      "metadata": {
        "id": "hVWylNvmnxkJ"
      },
      "execution_count": null,
      "outputs": []
    },
    {
      "cell_type": "code",
      "source": [
        "%time\n",
        "pd_df = pd.read_csv(\"en.openfoodfacts.org.products.tsv\", sep=\"\\t\")"
      ],
      "metadata": {
        "colab": {
          "base_uri": "https://localhost:8080/"
        },
        "id": "xD1IMs6zmKzE",
        "outputId": "54a5bdcb-0501-4f0f-9a47-470e072dc513"
      },
      "execution_count": null,
      "outputs": [
        {
          "output_type": "stream",
          "name": "stdout",
          "text": [
            "CPU times: user 4 µs, sys: 0 ns, total: 4 µs\n",
            "Wall time: 7.63 µs\n"
          ]
        },
        {
          "output_type": "stream",
          "name": "stderr",
          "text": [
            "<ipython-input-68-b94b7d77fa98>:2: DtypeWarning: Columns (0,3,5,19,20,24,25,26,27,28,36,37,38,39,48) have mixed types. Specify dtype option on import or set low_memory=False.\n",
            "  pd_df = pd.read_csv(\"en.openfoodfacts.org.products.tsv\", sep=\"\\t\")\n"
          ]
        },
        {
          "output_type": "stream",
          "name": "stdout",
          "text": [
            "time: 25.2 s (started: 2023-05-08 04:33:32 +00:00)\n"
          ]
        }
      ]
    },
    {
      "cell_type": "code",
      "source": [
        "pl_df = pl.read_csv(\"en.openfoodfacts.org.products.tsv\")"
      ],
      "metadata": {
        "colab": {
          "base_uri": "https://localhost:8080/"
        },
        "id": "uLV9dIybouIq",
        "outputId": "f7dabd21-b522-493a-aa2a-9139ebd58be9"
      },
      "execution_count": null,
      "outputs": [
        {
          "output_type": "stream",
          "name": "stdout",
          "text": [
            "time: 4.84 s (started: 2023-05-08 04:34:40 +00:00)\n"
          ]
        }
      ]
    },
    {
      "cell_type": "code",
      "source": [
        "!kaggle competitions download -c fake-news"
      ],
      "metadata": {
        "colab": {
          "base_uri": "https://localhost:8080/"
        },
        "id": "7hS8W7kZr2G_",
        "outputId": "2ecd0c1b-32e6-4cdf-bedd-210ed74d086e"
      },
      "execution_count": null,
      "outputs": [
        {
          "output_type": "stream",
          "name": "stdout",
          "text": [
            "Downloading fake-news.zip to /content\n",
            " 82% 38.0M/46.5M [00:00<00:00, 110MB/s] \n",
            "100% 46.5M/46.5M [00:00<00:00, 94.0MB/s]\n",
            "time: 1.51 s (started: 2023-05-08 04:47:23 +00:00)\n"
          ]
        }
      ]
    },
    {
      "cell_type": "code",
      "source": [
        "!unzip fake-news.zip"
      ],
      "metadata": {
        "colab": {
          "base_uri": "https://localhost:8080/"
        },
        "id": "fA7iXkM1r6jg",
        "outputId": "132b41c9-f422-4f8d-bda5-054b88c854fc"
      },
      "execution_count": null,
      "outputs": [
        {
          "output_type": "stream",
          "name": "stdout",
          "text": [
            "Archive:  fake-news.zip\n",
            "  inflating: submit.csv              \n",
            "  inflating: test.csv                \n",
            "  inflating: train.csv               \n",
            "time: 1.63 s (started: 2023-05-08 04:47:38 +00:00)\n"
          ]
        }
      ]
    },
    {
      "cell_type": "code",
      "source": [
        "pd_df = pd.read_csv(\"train.csv\")"
      ],
      "metadata": {
        "colab": {
          "base_uri": "https://localhost:8080/"
        },
        "id": "H_fZiNjKr99k",
        "outputId": "a00881f4-c5a0-4ef4-a00b-389c2b4052d5"
      },
      "execution_count": null,
      "outputs": [
        {
          "output_type": "stream",
          "name": "stdout",
          "text": [
            "time: 1.45 s (started: 2023-05-08 04:48:01 +00:00)\n"
          ]
        }
      ]
    },
    {
      "cell_type": "code",
      "source": [
        "pl_df = pl.read_csv(\"train.csv\")"
      ],
      "metadata": {
        "colab": {
          "base_uri": "https://localhost:8080/"
        },
        "id": "aXiWXDe4sCH7",
        "outputId": "54f18084-9fc4-4b5d-d36c-a49a059560bd"
      },
      "execution_count": null,
      "outputs": [
        {
          "output_type": "stream",
          "name": "stdout",
          "text": [
            "time: 1.05 s (started: 2023-05-08 04:48:15 +00:00)\n"
          ]
        }
      ]
    },
    {
      "cell_type": "code",
      "source": [
        "pd_df.describe()"
      ],
      "metadata": {
        "colab": {
          "base_uri": "https://localhost:8080/",
          "height": 318
        },
        "id": "4Fb4KWGlsGDV",
        "outputId": "5bef013a-6e02-4095-fda2-6e89ee8b2fae"
      },
      "execution_count": null,
      "outputs": [
        {
          "output_type": "execute_result",
          "data": {
            "text/plain": [
              "                 id         label\n",
              "count  20800.000000  20800.000000\n",
              "mean   10399.500000      0.500625\n",
              "std     6004.587135      0.500012\n",
              "min        0.000000      0.000000\n",
              "25%     5199.750000      0.000000\n",
              "50%    10399.500000      1.000000\n",
              "75%    15599.250000      1.000000\n",
              "max    20799.000000      1.000000"
            ],
            "text/html": [
              "\n",
              "  <div id=\"df-14dc9160-ff68-4194-8fd1-0b7d61fd11ab\">\n",
              "    <div class=\"colab-df-container\">\n",
              "      <div>\n",
              "<style scoped>\n",
              "    .dataframe tbody tr th:only-of-type {\n",
              "        vertical-align: middle;\n",
              "    }\n",
              "\n",
              "    .dataframe tbody tr th {\n",
              "        vertical-align: top;\n",
              "    }\n",
              "\n",
              "    .dataframe thead th {\n",
              "        text-align: right;\n",
              "    }\n",
              "</style>\n",
              "<table border=\"1\" class=\"dataframe\">\n",
              "  <thead>\n",
              "    <tr style=\"text-align: right;\">\n",
              "      <th></th>\n",
              "      <th>id</th>\n",
              "      <th>label</th>\n",
              "    </tr>\n",
              "  </thead>\n",
              "  <tbody>\n",
              "    <tr>\n",
              "      <th>count</th>\n",
              "      <td>20800.000000</td>\n",
              "      <td>20800.000000</td>\n",
              "    </tr>\n",
              "    <tr>\n",
              "      <th>mean</th>\n",
              "      <td>10399.500000</td>\n",
              "      <td>0.500625</td>\n",
              "    </tr>\n",
              "    <tr>\n",
              "      <th>std</th>\n",
              "      <td>6004.587135</td>\n",
              "      <td>0.500012</td>\n",
              "    </tr>\n",
              "    <tr>\n",
              "      <th>min</th>\n",
              "      <td>0.000000</td>\n",
              "      <td>0.000000</td>\n",
              "    </tr>\n",
              "    <tr>\n",
              "      <th>25%</th>\n",
              "      <td>5199.750000</td>\n",
              "      <td>0.000000</td>\n",
              "    </tr>\n",
              "    <tr>\n",
              "      <th>50%</th>\n",
              "      <td>10399.500000</td>\n",
              "      <td>1.000000</td>\n",
              "    </tr>\n",
              "    <tr>\n",
              "      <th>75%</th>\n",
              "      <td>15599.250000</td>\n",
              "      <td>1.000000</td>\n",
              "    </tr>\n",
              "    <tr>\n",
              "      <th>max</th>\n",
              "      <td>20799.000000</td>\n",
              "      <td>1.000000</td>\n",
              "    </tr>\n",
              "  </tbody>\n",
              "</table>\n",
              "</div>\n",
              "      <button class=\"colab-df-convert\" onclick=\"convertToInteractive('df-14dc9160-ff68-4194-8fd1-0b7d61fd11ab')\"\n",
              "              title=\"Convert this dataframe to an interactive table.\"\n",
              "              style=\"display:none;\">\n",
              "        \n",
              "  <svg xmlns=\"http://www.w3.org/2000/svg\" height=\"24px\"viewBox=\"0 0 24 24\"\n",
              "       width=\"24px\">\n",
              "    <path d=\"M0 0h24v24H0V0z\" fill=\"none\"/>\n",
              "    <path d=\"M18.56 5.44l.94 2.06.94-2.06 2.06-.94-2.06-.94-.94-2.06-.94 2.06-2.06.94zm-11 1L8.5 8.5l.94-2.06 2.06-.94-2.06-.94L8.5 2.5l-.94 2.06-2.06.94zm10 10l.94 2.06.94-2.06 2.06-.94-2.06-.94-.94-2.06-.94 2.06-2.06.94z\"/><path d=\"M17.41 7.96l-1.37-1.37c-.4-.4-.92-.59-1.43-.59-.52 0-1.04.2-1.43.59L10.3 9.45l-7.72 7.72c-.78.78-.78 2.05 0 2.83L4 21.41c.39.39.9.59 1.41.59.51 0 1.02-.2 1.41-.59l7.78-7.78 2.81-2.81c.8-.78.8-2.07 0-2.86zM5.41 20L4 18.59l7.72-7.72 1.47 1.35L5.41 20z\"/>\n",
              "  </svg>\n",
              "      </button>\n",
              "      \n",
              "  <style>\n",
              "    .colab-df-container {\n",
              "      display:flex;\n",
              "      flex-wrap:wrap;\n",
              "      gap: 12px;\n",
              "    }\n",
              "\n",
              "    .colab-df-convert {\n",
              "      background-color: #E8F0FE;\n",
              "      border: none;\n",
              "      border-radius: 50%;\n",
              "      cursor: pointer;\n",
              "      display: none;\n",
              "      fill: #1967D2;\n",
              "      height: 32px;\n",
              "      padding: 0 0 0 0;\n",
              "      width: 32px;\n",
              "    }\n",
              "\n",
              "    .colab-df-convert:hover {\n",
              "      background-color: #E2EBFA;\n",
              "      box-shadow: 0px 1px 2px rgba(60, 64, 67, 0.3), 0px 1px 3px 1px rgba(60, 64, 67, 0.15);\n",
              "      fill: #174EA6;\n",
              "    }\n",
              "\n",
              "    [theme=dark] .colab-df-convert {\n",
              "      background-color: #3B4455;\n",
              "      fill: #D2E3FC;\n",
              "    }\n",
              "\n",
              "    [theme=dark] .colab-df-convert:hover {\n",
              "      background-color: #434B5C;\n",
              "      box-shadow: 0px 1px 3px 1px rgba(0, 0, 0, 0.15);\n",
              "      filter: drop-shadow(0px 1px 2px rgba(0, 0, 0, 0.3));\n",
              "      fill: #FFFFFF;\n",
              "    }\n",
              "  </style>\n",
              "\n",
              "      <script>\n",
              "        const buttonEl =\n",
              "          document.querySelector('#df-14dc9160-ff68-4194-8fd1-0b7d61fd11ab button.colab-df-convert');\n",
              "        buttonEl.style.display =\n",
              "          google.colab.kernel.accessAllowed ? 'block' : 'none';\n",
              "\n",
              "        async function convertToInteractive(key) {\n",
              "          const element = document.querySelector('#df-14dc9160-ff68-4194-8fd1-0b7d61fd11ab');\n",
              "          const dataTable =\n",
              "            await google.colab.kernel.invokeFunction('convertToInteractive',\n",
              "                                                     [key], {});\n",
              "          if (!dataTable) return;\n",
              "\n",
              "          const docLinkHtml = 'Like what you see? Visit the ' +\n",
              "            '<a target=\"_blank\" href=https://colab.research.google.com/notebooks/data_table.ipynb>data table notebook</a>'\n",
              "            + ' to learn more about interactive tables.';\n",
              "          element.innerHTML = '';\n",
              "          dataTable['output_type'] = 'display_data';\n",
              "          await google.colab.output.renderOutput(dataTable, element);\n",
              "          const docLink = document.createElement('div');\n",
              "          docLink.innerHTML = docLinkHtml;\n",
              "          element.appendChild(docLink);\n",
              "        }\n",
              "      </script>\n",
              "    </div>\n",
              "  </div>\n",
              "  "
            ]
          },
          "metadata": {},
          "execution_count": 85
        },
        {
          "output_type": "stream",
          "name": "stdout",
          "text": [
            "time: 56.1 ms (started: 2023-05-08 04:48:25 +00:00)\n"
          ]
        }
      ]
    },
    {
      "cell_type": "code",
      "source": [
        "pl_df.describe()"
      ],
      "metadata": {
        "colab": {
          "base_uri": "https://localhost:8080/",
          "height": 398
        },
        "id": "sT9VYCPcsI5V",
        "outputId": "08a2a557-b285-4943-d5e9-1fb0fbb70b64"
      },
      "execution_count": null,
      "outputs": [
        {
          "output_type": "execute_result",
          "data": {
            "text/plain": [
              "shape: (9, 6)\n",
              "┌────────────┬─────────────┬────────────────────┬──────────────────┬────────────────┬──────────┐\n",
              "│ describe   ┆ id          ┆ title              ┆ author           ┆ text           ┆ label    │\n",
              "│ ---        ┆ ---         ┆ ---                ┆ ---              ┆ ---            ┆ ---      │\n",
              "│ str        ┆ f64         ┆ str                ┆ str              ┆ str            ┆ f64      │\n",
              "╞════════════╪═════════════╪════════════════════╪══════════════════╪════════════════╪══════════╡\n",
              "│ count      ┆ 20800.0     ┆ 20800              ┆ 20800            ┆ 20800          ┆ 20800.0  │\n",
              "│ null_count ┆ 0.0         ┆ 558                ┆ 0                ┆ 39             ┆ 0.0      │\n",
              "│ mean       ┆ 10399.5     ┆ null               ┆ null             ┆ null           ┆ 0.500625 │\n",
              "│ std        ┆ 6004.587135 ┆ null               ┆ null             ┆ null           ┆ 0.500012 │\n",
              "│ min        ┆ 0.0         ┆ \"Allahu Akbar, the ┆ # 1 NWO Hatr     ┆                ┆ 0.0      │\n",
              "│            ┆             ┆ Russians are …     ┆                  ┆                ┆          │\n",
              "│ max        ┆ 20799.0     ┆ 🚨Bill Clinton and ┆ “Shoot First Ask ┆ 🚨Bill Clinton ┆ 1.0      │\n",
              "│            ┆             ┆ Hillary Lolita…    ┆ Questions Later… ┆ and Hillary    ┆          │\n",
              "│            ┆             ┆                    ┆                  ┆ Lolita…        ┆          │\n",
              "│ median     ┆ 10399.5     ┆ null               ┆ null             ┆ null           ┆ 1.0      │\n",
              "│ 25%        ┆ 5200.0      ┆ null               ┆ null             ┆ null           ┆ 0.0      │\n",
              "│ 75%        ┆ 15600.0     ┆ null               ┆ null             ┆ null           ┆ 1.0      │\n",
              "└────────────┴─────────────┴────────────────────┴──────────────────┴────────────────┴──────────┘"
            ],
            "text/html": [
              "<div><style>\n",
              ".dataframe > thead > tr > th,\n",
              ".dataframe > tbody > tr > td {\n",
              "  text-align: right;\n",
              "}\n",
              "</style>\n",
              "<small>shape: (9, 6)</small><table border=\"1\" class=\"dataframe\"><thead><tr><th>describe</th><th>id</th><th>title</th><th>author</th><th>text</th><th>label</th></tr><tr><td>str</td><td>f64</td><td>str</td><td>str</td><td>str</td><td>f64</td></tr></thead><tbody><tr><td>&quot;count&quot;</td><td>20800.0</td><td>&quot;20800&quot;</td><td>&quot;20800&quot;</td><td>&quot;20800&quot;</td><td>20800.0</td></tr><tr><td>&quot;null_count&quot;</td><td>0.0</td><td>&quot;558&quot;</td><td>&quot;0&quot;</td><td>&quot;39&quot;</td><td>0.0</td></tr><tr><td>&quot;mean&quot;</td><td>10399.5</td><td>null</td><td>null</td><td>null</td><td>0.500625</td></tr><tr><td>&quot;std&quot;</td><td>6004.587135</td><td>null</td><td>null</td><td>null</td><td>0.500012</td></tr><tr><td>&quot;min&quot;</td><td>0.0</td><td>&quot;&quot;Allahu Akbar,…</td><td>&quot;# 1 NWO Hatr&quot;</td><td>&quot;\n",
              "&quot;</td><td>0.0</td></tr><tr><td>&quot;max&quot;</td><td>20799.0</td><td>&quot;🚨Bill Clinton …</td><td>&quot;“Shoot First A…</td><td>&quot;🚨Bill Clinton …</td><td>1.0</td></tr><tr><td>&quot;median&quot;</td><td>10399.5</td><td>null</td><td>null</td><td>null</td><td>1.0</td></tr><tr><td>&quot;25%&quot;</td><td>5200.0</td><td>null</td><td>null</td><td>null</td><td>0.0</td></tr><tr><td>&quot;75%&quot;</td><td>15600.0</td><td>null</td><td>null</td><td>null</td><td>1.0</td></tr></tbody></table></div>"
            ]
          },
          "metadata": {},
          "execution_count": 86
        },
        {
          "output_type": "stream",
          "name": "stdout",
          "text": [
            "time: 36.3 ms (started: 2023-05-08 04:48:37 +00:00)\n"
          ]
        }
      ]
    }
  ]
}
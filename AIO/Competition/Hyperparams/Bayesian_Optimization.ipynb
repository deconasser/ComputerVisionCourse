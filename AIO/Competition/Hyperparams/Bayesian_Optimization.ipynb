{
  "nbformat": 4,
  "nbformat_minor": 0,
  "metadata": {
    "colab": {
      "provenance": []
    },
    "kernelspec": {
      "name": "python3",
      "display_name": "Python 3"
    },
    "language_info": {
      "name": "python"
    }
  },
  "cells": [
    {
      "cell_type": "markdown",
      "source": [
        "Với sự phát triển mạnh mẽ và ngày càng tăng của dữ liệu thì dường như Grid Search đã không còn là phương pháp phù hợp cho việc tối ưu hóa model nữa. Thay vào đó là việc áp dụng Random Search hay một kỹ thuật tối ưu khác là **Bayesian** với bayesian sẽ yêu cầu những setup phức tạp hơn so với Random Search hay Grid Search.\n",
        "\n",
        "Ý tưởng chính của Bayesian Optimization là tối ưu một **proxy function** (surrogate function) - một **function thay thế** hơn là tối ưu objective function (đây cũng là điều mà cả Grid Search và Random Search đều tối ưu). Chúng ta sử dụng Bayesian nếu không có gradients, nếu kiểm tra với objective function thực sự tốn kém (về mặt chi phí) (nếu không tốn kém thì sử dụng Random Search) và search space chứa nhiễu và phức tạp.\n",
        "\n",
        "Bayesian luôn cân bằng giữa khám phá - *exploration* và khai thác - *exploitation*. Ban đầu, Bayesian sẽ cố gắng khám phá dữ liệu một cách ngẫu nhiên, do đó sẽ sử dụng proxy function. Dựa trên proxy function, Bayesian sẽ khởi tạo **approximate knowledge** để lấy mẫu các sample data và minimize cost function. Sau đó sử dụng **priors param** để đưa ra quyết định hiệu quả cho việc sampling data. Nhờ đó quá trình minimization sẽ được diễn ra nhanh hơn bằng cách giới hạn số lượng đánh giá cần phải thực hiện.\n",
        "\n",
        "Bayesian Optimization sử dụng **acquisition function** để mô tả cho chúng ta biết làm thế nào để thực hiện trên một observation data. Để có thể quản lý **trade-off giữa exploration và exploitation**, Bayesian xác định acquisition function cung cấp một phép đo thực nghiệm trên các điểm dữ liệu.\n",
        "\n",
        "Thông thường Bayesian optimization được thể hiện bởi Gaussian process - và quá trình này sẽ thực hiện tốt khi search space không quá phức tạp, smooth và có thể nắm bắt hay đoán trước được. Để có thể tìm kiếm trên search space phức tạp hơn chúng ta có thể sử dụng **tree algorithms** (random forest) hoặc một cách tiếp cận khác là  Tree Parzen\n",
        "Estimators hay Tree-structured Parzen Estimators (TPEs)\n",
        "\n",
        "Thay vì xây dựng một model để đánh giá score giữa tập hợp các parameters thì TPE ước lượng các parameter theo phân phối đa biến xác định giá trị các parameter tốt nhất dựa trên **successive approximations** có được qua những lần thực nghiệm. Bằng cách này TPE lấy tập hợp các parameter tốt nhất bằng cách lấy mẫu chúng từ một phân phối xác suất."
      ],
      "metadata": {
        "id": "6nuIPj98z0QL"
      }
    },
    {
      "cell_type": "code",
      "source": [
        "!gdown --id 1-YYnr636nn1vAOU1nwgbBajY7wF6s75j\n",
        "!gdown --id 1qMMdfMkvw-tbmlX6b-M9IKkdCXWr5Zy9"
      ],
      "metadata": {
        "id": "6lC-dzDP_e1m"
      },
      "execution_count": null,
      "outputs": []
    },
    {
      "cell_type": "code",
      "source": [
        "!pip install scikit-optimize"
      ],
      "metadata": {
        "id": "y6KVWvuY9cjw"
      },
      "execution_count": null,
      "outputs": []
    },
    {
      "cell_type": "code",
      "source": [
        "!pip install ipython-autotime\n",
        "%load_ext autotime"
      ],
      "metadata": {
        "id": "UEuaUcqCXBVK"
      },
      "execution_count": null,
      "outputs": []
    },
    {
      "cell_type": "code",
      "source": [
        "import numpy as np\n",
        "import pandas as pd\n",
        "from time import time\n",
        "import pprint\n",
        "import joblib\n",
        "from functools import partial\n",
        "\n",
        "import warnings\n",
        "warnings.filterwarnings(\"ignore\")\n",
        "\n",
        "import lightgbm as lgb\n",
        "from sklearn.linear_model import LinearRegression\n",
        "\n",
        "from sklearn.model_selection import KFold\n",
        "from sklearn.metrics import mean_squared_error\n",
        "from sklearn.metrics import make_scorer\n",
        "\n",
        "from skopt import BayesSearchCV\n",
        "from skopt.callbacks import DeadlineStopper, DeltaYStopper\n",
        "from skopt.space import Real, Categorical, Integer"
      ],
      "metadata": {
        "id": "BiNfK1MI9Hv4"
      },
      "execution_count": 17,
      "outputs": []
    },
    {
      "cell_type": "code",
      "source": [
        "X = pd.read_csv(\"train.csv\")\n",
        "X_test = pd.read_csv(\"test.csv\")\n",
        "\n",
        "X.head(2)"
      ],
      "metadata": {
        "colab": {
          "base_uri": "https://localhost:8080/",
          "height": 159
        },
        "id": "jbSXWHNX9y35",
        "outputId": "593af668-b42d-4c07-f7bf-35fd0cc8c81f"
      },
      "execution_count": 44,
      "outputs": [
        {
          "output_type": "execute_result",
          "data": {
            "text/plain": [
              "   id cat0 cat1 cat2 cat3 cat4 cat5 cat6 cat7 cat8  ...     cont5     cont6  \\\n",
              "0   1    B    B    B    C    B    B    A    E    C  ...  0.400361  0.160266   \n",
              "1   2    B    B    A    A    B    D    A    F    A  ...  0.533087  0.558922   \n",
              "\n",
              "      cont7     cont8     cont9    cont10    cont11    cont12    cont13  \\\n",
              "0  0.310921  0.389470  0.267559  0.237281  0.377873  0.322401  0.869850   \n",
              "1  0.516294  0.594928  0.341439  0.906013  0.921701  0.261975  0.465083   \n",
              "\n",
              "     target  \n",
              "0  8.113634  \n",
              "1  8.481233  \n",
              "\n",
              "[2 rows x 26 columns]"
            ],
            "text/html": [
              "\n",
              "  <div id=\"df-cdf56323-fb90-435f-aae9-71ffa2a09929\">\n",
              "    <div class=\"colab-df-container\">\n",
              "      <div>\n",
              "<style scoped>\n",
              "    .dataframe tbody tr th:only-of-type {\n",
              "        vertical-align: middle;\n",
              "    }\n",
              "\n",
              "    .dataframe tbody tr th {\n",
              "        vertical-align: top;\n",
              "    }\n",
              "\n",
              "    .dataframe thead th {\n",
              "        text-align: right;\n",
              "    }\n",
              "</style>\n",
              "<table border=\"1\" class=\"dataframe\">\n",
              "  <thead>\n",
              "    <tr style=\"text-align: right;\">\n",
              "      <th></th>\n",
              "      <th>id</th>\n",
              "      <th>cat0</th>\n",
              "      <th>cat1</th>\n",
              "      <th>cat2</th>\n",
              "      <th>cat3</th>\n",
              "      <th>cat4</th>\n",
              "      <th>cat5</th>\n",
              "      <th>cat6</th>\n",
              "      <th>cat7</th>\n",
              "      <th>cat8</th>\n",
              "      <th>...</th>\n",
              "      <th>cont5</th>\n",
              "      <th>cont6</th>\n",
              "      <th>cont7</th>\n",
              "      <th>cont8</th>\n",
              "      <th>cont9</th>\n",
              "      <th>cont10</th>\n",
              "      <th>cont11</th>\n",
              "      <th>cont12</th>\n",
              "      <th>cont13</th>\n",
              "      <th>target</th>\n",
              "    </tr>\n",
              "  </thead>\n",
              "  <tbody>\n",
              "    <tr>\n",
              "      <th>0</th>\n",
              "      <td>1</td>\n",
              "      <td>B</td>\n",
              "      <td>B</td>\n",
              "      <td>B</td>\n",
              "      <td>C</td>\n",
              "      <td>B</td>\n",
              "      <td>B</td>\n",
              "      <td>A</td>\n",
              "      <td>E</td>\n",
              "      <td>C</td>\n",
              "      <td>...</td>\n",
              "      <td>0.400361</td>\n",
              "      <td>0.160266</td>\n",
              "      <td>0.310921</td>\n",
              "      <td>0.389470</td>\n",
              "      <td>0.267559</td>\n",
              "      <td>0.237281</td>\n",
              "      <td>0.377873</td>\n",
              "      <td>0.322401</td>\n",
              "      <td>0.869850</td>\n",
              "      <td>8.113634</td>\n",
              "    </tr>\n",
              "    <tr>\n",
              "      <th>1</th>\n",
              "      <td>2</td>\n",
              "      <td>B</td>\n",
              "      <td>B</td>\n",
              "      <td>A</td>\n",
              "      <td>A</td>\n",
              "      <td>B</td>\n",
              "      <td>D</td>\n",
              "      <td>A</td>\n",
              "      <td>F</td>\n",
              "      <td>A</td>\n",
              "      <td>...</td>\n",
              "      <td>0.533087</td>\n",
              "      <td>0.558922</td>\n",
              "      <td>0.516294</td>\n",
              "      <td>0.594928</td>\n",
              "      <td>0.341439</td>\n",
              "      <td>0.906013</td>\n",
              "      <td>0.921701</td>\n",
              "      <td>0.261975</td>\n",
              "      <td>0.465083</td>\n",
              "      <td>8.481233</td>\n",
              "    </tr>\n",
              "  </tbody>\n",
              "</table>\n",
              "<p>2 rows × 26 columns</p>\n",
              "</div>\n",
              "      <button class=\"colab-df-convert\" onclick=\"convertToInteractive('df-cdf56323-fb90-435f-aae9-71ffa2a09929')\"\n",
              "              title=\"Convert this dataframe to an interactive table.\"\n",
              "              style=\"display:none;\">\n",
              "        \n",
              "  <svg xmlns=\"http://www.w3.org/2000/svg\" height=\"24px\"viewBox=\"0 0 24 24\"\n",
              "       width=\"24px\">\n",
              "    <path d=\"M0 0h24v24H0V0z\" fill=\"none\"/>\n",
              "    <path d=\"M18.56 5.44l.94 2.06.94-2.06 2.06-.94-2.06-.94-.94-2.06-.94 2.06-2.06.94zm-11 1L8.5 8.5l.94-2.06 2.06-.94-2.06-.94L8.5 2.5l-.94 2.06-2.06.94zm10 10l.94 2.06.94-2.06 2.06-.94-2.06-.94-.94-2.06-.94 2.06-2.06.94z\"/><path d=\"M17.41 7.96l-1.37-1.37c-.4-.4-.92-.59-1.43-.59-.52 0-1.04.2-1.43.59L10.3 9.45l-7.72 7.72c-.78.78-.78 2.05 0 2.83L4 21.41c.39.39.9.59 1.41.59.51 0 1.02-.2 1.41-.59l7.78-7.78 2.81-2.81c.8-.78.8-2.07 0-2.86zM5.41 20L4 18.59l7.72-7.72 1.47 1.35L5.41 20z\"/>\n",
              "  </svg>\n",
              "      </button>\n",
              "      \n",
              "  <style>\n",
              "    .colab-df-container {\n",
              "      display:flex;\n",
              "      flex-wrap:wrap;\n",
              "      gap: 12px;\n",
              "    }\n",
              "\n",
              "    .colab-df-convert {\n",
              "      background-color: #E8F0FE;\n",
              "      border: none;\n",
              "      border-radius: 50%;\n",
              "      cursor: pointer;\n",
              "      display: none;\n",
              "      fill: #1967D2;\n",
              "      height: 32px;\n",
              "      padding: 0 0 0 0;\n",
              "      width: 32px;\n",
              "    }\n",
              "\n",
              "    .colab-df-convert:hover {\n",
              "      background-color: #E2EBFA;\n",
              "      box-shadow: 0px 1px 2px rgba(60, 64, 67, 0.3), 0px 1px 3px 1px rgba(60, 64, 67, 0.15);\n",
              "      fill: #174EA6;\n",
              "    }\n",
              "\n",
              "    [theme=dark] .colab-df-convert {\n",
              "      background-color: #3B4455;\n",
              "      fill: #D2E3FC;\n",
              "    }\n",
              "\n",
              "    [theme=dark] .colab-df-convert:hover {\n",
              "      background-color: #434B5C;\n",
              "      box-shadow: 0px 1px 3px 1px rgba(0, 0, 0, 0.15);\n",
              "      filter: drop-shadow(0px 1px 2px rgba(0, 0, 0, 0.3));\n",
              "      fill: #FFFFFF;\n",
              "    }\n",
              "  </style>\n",
              "\n",
              "      <script>\n",
              "        const buttonEl =\n",
              "          document.querySelector('#df-cdf56323-fb90-435f-aae9-71ffa2a09929 button.colab-df-convert');\n",
              "        buttonEl.style.display =\n",
              "          google.colab.kernel.accessAllowed ? 'block' : 'none';\n",
              "\n",
              "        async function convertToInteractive(key) {\n",
              "          const element = document.querySelector('#df-cdf56323-fb90-435f-aae9-71ffa2a09929');\n",
              "          const dataTable =\n",
              "            await google.colab.kernel.invokeFunction('convertToInteractive',\n",
              "                                                     [key], {});\n",
              "          if (!dataTable) return;\n",
              "\n",
              "          const docLinkHtml = 'Like what you see? Visit the ' +\n",
              "            '<a target=\"_blank\" href=https://colab.research.google.com/notebooks/data_table.ipynb>data table notebook</a>'\n",
              "            + ' to learn more about interactive tables.';\n",
              "          element.innerHTML = '';\n",
              "          dataTable['output_type'] = 'display_data';\n",
              "          await google.colab.output.renderOutput(dataTable, element);\n",
              "          const docLink = document.createElement('div');\n",
              "          docLink.innerHTML = docLinkHtml;\n",
              "          element.appendChild(docLink);\n",
              "        }\n",
              "      </script>\n",
              "    </div>\n",
              "  </div>\n",
              "  "
            ]
          },
          "metadata": {},
          "execution_count": 44
        },
        {
          "output_type": "stream",
          "name": "stdout",
          "text": [
            "time: 4.29 s (started: 2023-05-31 15:27:55 +00:00)\n"
          ]
        }
      ]
    },
    {
      "cell_type": "code",
      "source": [
        "X_test.head(2)"
      ],
      "metadata": {
        "colab": {
          "base_uri": "https://localhost:8080/",
          "height": 159
        },
        "id": "3Sn7YPS6-Rl6",
        "outputId": "e15d4fc3-0a43-45e2-89ad-ef1c1231f5e9"
      },
      "execution_count": 45,
      "outputs": [
        {
          "output_type": "execute_result",
          "data": {
            "text/plain": [
              "   id cat0 cat1 cat2 cat3 cat4 cat5 cat6 cat7 cat8  ...     cont4     cont5  \\\n",
              "0   0    B    B    B    C    B    B    A    E    E  ...  0.476739  0.376350   \n",
              "1   5    A    B    A    C    B    C    A    E    C  ...  0.285509  0.860046   \n",
              "\n",
              "      cont6     cont7     cont8     cont9    cont10    cont11    cont12  \\\n",
              "0  0.337884  0.321832  0.445212  0.290258  0.244476  0.087914  0.301831   \n",
              "1  0.798712  0.835961  0.391657  0.288276  0.549568  0.905097  0.850684   \n",
              "\n",
              "     cont13  \n",
              "0  0.845702  \n",
              "1  0.693940  \n",
              "\n",
              "[2 rows x 25 columns]"
            ],
            "text/html": [
              "\n",
              "  <div id=\"df-6999dea2-da78-4ed7-9bfd-a2f42ca84a45\">\n",
              "    <div class=\"colab-df-container\">\n",
              "      <div>\n",
              "<style scoped>\n",
              "    .dataframe tbody tr th:only-of-type {\n",
              "        vertical-align: middle;\n",
              "    }\n",
              "\n",
              "    .dataframe tbody tr th {\n",
              "        vertical-align: top;\n",
              "    }\n",
              "\n",
              "    .dataframe thead th {\n",
              "        text-align: right;\n",
              "    }\n",
              "</style>\n",
              "<table border=\"1\" class=\"dataframe\">\n",
              "  <thead>\n",
              "    <tr style=\"text-align: right;\">\n",
              "      <th></th>\n",
              "      <th>id</th>\n",
              "      <th>cat0</th>\n",
              "      <th>cat1</th>\n",
              "      <th>cat2</th>\n",
              "      <th>cat3</th>\n",
              "      <th>cat4</th>\n",
              "      <th>cat5</th>\n",
              "      <th>cat6</th>\n",
              "      <th>cat7</th>\n",
              "      <th>cat8</th>\n",
              "      <th>...</th>\n",
              "      <th>cont4</th>\n",
              "      <th>cont5</th>\n",
              "      <th>cont6</th>\n",
              "      <th>cont7</th>\n",
              "      <th>cont8</th>\n",
              "      <th>cont9</th>\n",
              "      <th>cont10</th>\n",
              "      <th>cont11</th>\n",
              "      <th>cont12</th>\n",
              "      <th>cont13</th>\n",
              "    </tr>\n",
              "  </thead>\n",
              "  <tbody>\n",
              "    <tr>\n",
              "      <th>0</th>\n",
              "      <td>0</td>\n",
              "      <td>B</td>\n",
              "      <td>B</td>\n",
              "      <td>B</td>\n",
              "      <td>C</td>\n",
              "      <td>B</td>\n",
              "      <td>B</td>\n",
              "      <td>A</td>\n",
              "      <td>E</td>\n",
              "      <td>E</td>\n",
              "      <td>...</td>\n",
              "      <td>0.476739</td>\n",
              "      <td>0.376350</td>\n",
              "      <td>0.337884</td>\n",
              "      <td>0.321832</td>\n",
              "      <td>0.445212</td>\n",
              "      <td>0.290258</td>\n",
              "      <td>0.244476</td>\n",
              "      <td>0.087914</td>\n",
              "      <td>0.301831</td>\n",
              "      <td>0.845702</td>\n",
              "    </tr>\n",
              "    <tr>\n",
              "      <th>1</th>\n",
              "      <td>5</td>\n",
              "      <td>A</td>\n",
              "      <td>B</td>\n",
              "      <td>A</td>\n",
              "      <td>C</td>\n",
              "      <td>B</td>\n",
              "      <td>C</td>\n",
              "      <td>A</td>\n",
              "      <td>E</td>\n",
              "      <td>C</td>\n",
              "      <td>...</td>\n",
              "      <td>0.285509</td>\n",
              "      <td>0.860046</td>\n",
              "      <td>0.798712</td>\n",
              "      <td>0.835961</td>\n",
              "      <td>0.391657</td>\n",
              "      <td>0.288276</td>\n",
              "      <td>0.549568</td>\n",
              "      <td>0.905097</td>\n",
              "      <td>0.850684</td>\n",
              "      <td>0.693940</td>\n",
              "    </tr>\n",
              "  </tbody>\n",
              "</table>\n",
              "<p>2 rows × 25 columns</p>\n",
              "</div>\n",
              "      <button class=\"colab-df-convert\" onclick=\"convertToInteractive('df-6999dea2-da78-4ed7-9bfd-a2f42ca84a45')\"\n",
              "              title=\"Convert this dataframe to an interactive table.\"\n",
              "              style=\"display:none;\">\n",
              "        \n",
              "  <svg xmlns=\"http://www.w3.org/2000/svg\" height=\"24px\"viewBox=\"0 0 24 24\"\n",
              "       width=\"24px\">\n",
              "    <path d=\"M0 0h24v24H0V0z\" fill=\"none\"/>\n",
              "    <path d=\"M18.56 5.44l.94 2.06.94-2.06 2.06-.94-2.06-.94-.94-2.06-.94 2.06-2.06.94zm-11 1L8.5 8.5l.94-2.06 2.06-.94-2.06-.94L8.5 2.5l-.94 2.06-2.06.94zm10 10l.94 2.06.94-2.06 2.06-.94-2.06-.94-.94-2.06-.94 2.06-2.06.94z\"/><path d=\"M17.41 7.96l-1.37-1.37c-.4-.4-.92-.59-1.43-.59-.52 0-1.04.2-1.43.59L10.3 9.45l-7.72 7.72c-.78.78-.78 2.05 0 2.83L4 21.41c.39.39.9.59 1.41.59.51 0 1.02-.2 1.41-.59l7.78-7.78 2.81-2.81c.8-.78.8-2.07 0-2.86zM5.41 20L4 18.59l7.72-7.72 1.47 1.35L5.41 20z\"/>\n",
              "  </svg>\n",
              "      </button>\n",
              "      \n",
              "  <style>\n",
              "    .colab-df-container {\n",
              "      display:flex;\n",
              "      flex-wrap:wrap;\n",
              "      gap: 12px;\n",
              "    }\n",
              "\n",
              "    .colab-df-convert {\n",
              "      background-color: #E8F0FE;\n",
              "      border: none;\n",
              "      border-radius: 50%;\n",
              "      cursor: pointer;\n",
              "      display: none;\n",
              "      fill: #1967D2;\n",
              "      height: 32px;\n",
              "      padding: 0 0 0 0;\n",
              "      width: 32px;\n",
              "    }\n",
              "\n",
              "    .colab-df-convert:hover {\n",
              "      background-color: #E2EBFA;\n",
              "      box-shadow: 0px 1px 2px rgba(60, 64, 67, 0.3), 0px 1px 3px 1px rgba(60, 64, 67, 0.15);\n",
              "      fill: #174EA6;\n",
              "    }\n",
              "\n",
              "    [theme=dark] .colab-df-convert {\n",
              "      background-color: #3B4455;\n",
              "      fill: #D2E3FC;\n",
              "    }\n",
              "\n",
              "    [theme=dark] .colab-df-convert:hover {\n",
              "      background-color: #434B5C;\n",
              "      box-shadow: 0px 1px 3px 1px rgba(0, 0, 0, 0.15);\n",
              "      filter: drop-shadow(0px 1px 2px rgba(0, 0, 0, 0.3));\n",
              "      fill: #FFFFFF;\n",
              "    }\n",
              "  </style>\n",
              "\n",
              "      <script>\n",
              "        const buttonEl =\n",
              "          document.querySelector('#df-6999dea2-da78-4ed7-9bfd-a2f42ca84a45 button.colab-df-convert');\n",
              "        buttonEl.style.display =\n",
              "          google.colab.kernel.accessAllowed ? 'block' : 'none';\n",
              "\n",
              "        async function convertToInteractive(key) {\n",
              "          const element = document.querySelector('#df-6999dea2-da78-4ed7-9bfd-a2f42ca84a45');\n",
              "          const dataTable =\n",
              "            await google.colab.kernel.invokeFunction('convertToInteractive',\n",
              "                                                     [key], {});\n",
              "          if (!dataTable) return;\n",
              "\n",
              "          const docLinkHtml = 'Like what you see? Visit the ' +\n",
              "            '<a target=\"_blank\" href=https://colab.research.google.com/notebooks/data_table.ipynb>data table notebook</a>'\n",
              "            + ' to learn more about interactive tables.';\n",
              "          element.innerHTML = '';\n",
              "          dataTable['output_type'] = 'display_data';\n",
              "          await google.colab.output.renderOutput(dataTable, element);\n",
              "          const docLink = document.createElement('div');\n",
              "          docLink.innerHTML = docLinkHtml;\n",
              "          element.appendChild(docLink);\n",
              "        }\n",
              "      </script>\n",
              "    </div>\n",
              "  </div>\n",
              "  "
            ]
          },
          "metadata": {},
          "execution_count": 45
        },
        {
          "output_type": "stream",
          "name": "stdout",
          "text": [
            "time: 18.7 ms (started: 2023-05-31 15:27:59 +00:00)\n"
          ]
        }
      ]
    },
    {
      "cell_type": "code",
      "source": [
        "y = X.target\n",
        "X = X.set_index('id').drop('target', axis='columns')\n",
        "X_test = X_test.set_index('id')"
      ],
      "metadata": {
        "colab": {
          "base_uri": "https://localhost:8080/"
        },
        "id": "ytgwx-nK9__c",
        "outputId": "303cc5e5-b048-4680-b21d-218e78932511"
      },
      "execution_count": 46,
      "outputs": [
        {
          "output_type": "stream",
          "name": "stdout",
          "text": [
            "time: 114 ms (started: 2023-05-31 15:27:59 +00:00)\n"
          ]
        }
      ]
    },
    {
      "cell_type": "code",
      "source": [
        "# processs data\n",
        "categoricals = [item for item in X.columns if 'cat' in item]\n",
        "cat_values = np.unique(X[categoricals].values)\n",
        "cat_dict = dict(zip(cat_values, range(len(cat_values))))\n",
        "\n",
        "X[categoricals] = X[categoricals].replace(cat_dict).astype('category')\n",
        "X_test[categoricals] = X_test[categoricals].replace(cat_dict).astype('category')"
      ],
      "metadata": {
        "colab": {
          "base_uri": "https://localhost:8080/"
        },
        "id": "IgTWqSCV-YXC",
        "outputId": "b4da7721-8efe-485b-fc23-e9c5ab64bcf0"
      },
      "execution_count": 47,
      "outputs": [
        {
          "output_type": "stream",
          "name": "stdout",
          "text": [
            "time: 6.7 s (started: 2023-05-31 15:27:59 +00:00)\n"
          ]
        }
      ]
    },
    {
      "cell_type": "markdown",
      "source": [
        "Sklearn callback "
      ],
      "metadata": {
        "id": "QlitJKhU-wPG"
      }
    },
    {
      "cell_type": "code",
      "source": [
        "def report_perf(optimizer, X, y, title=\"model\", callbacks=None):\n",
        "    start = time()\n",
        "    \n",
        "    if callbacks is not None:\n",
        "        optimizer.fit(X, y, callback=callbacks)\n",
        "    else:\n",
        "        optimizer.fit(X, y)\n",
        "        \n",
        "    d=pd.DataFrame(optimizer.cv_results_)\n",
        "    best_score = optimizer.best_score_\n",
        "    best_score_std = d.iloc[optimizer.best_index_].std_test_score\n",
        "    best_params = optimizer.best_params_\n",
        "    \n",
        "    print((title + \" use %.2f seconds,  hyperparameters checked: %d, best CV score: %.3f \"+ u\"\\u00B1\"+\" %.3f\") % (time() - start, \n",
        "                                   len(optimizer.cv_results_['params']),\n",
        "                                   best_score,\n",
        "                                   best_score_std))    \n",
        "    print('Best parameters:')\n",
        "    pprint.pprint(best_params)\n",
        "    print()\n",
        "    return best_params"
      ],
      "metadata": {
        "colab": {
          "base_uri": "https://localhost:8080/"
        },
        "id": "PpYvN-t0-1C8",
        "outputId": "ce2346a1-64c5-4cb4-a735-40f9cbd23000"
      },
      "execution_count": 48,
      "outputs": [
        {
          "output_type": "stream",
          "name": "stdout",
          "text": [
            "time: 1.34 ms (started: 2023-05-31 15:28:06 +00:00)\n"
          ]
        }
      ]
    },
    {
      "cell_type": "code",
      "source": [
        "scoring = make_scorer(partial(mean_squared_error, squared=False), greater_is_better=False)\n",
        "kf = KFold(n_splits=5, shuffle=True, random_state=0)\n",
        "reg = lgb.LGBMRegressor(boosting_type='gbdt',\n",
        "                        metric='rmse',\n",
        "                        objective='regression',\n",
        "                        n_jobs=1, \n",
        "                        verbose=-1,\n",
        "                        random_state=0)"
      ],
      "metadata": {
        "colab": {
          "base_uri": "https://localhost:8080/"
        },
        "id": "OucAfIjd_2A0",
        "outputId": "059ba75d-b9bd-4297-ff1a-181248acc1b1"
      },
      "execution_count": 49,
      "outputs": [
        {
          "output_type": "stream",
          "name": "stdout",
          "text": [
            "time: 780 µs (started: 2023-05-31 15:28:06 +00:00)\n"
          ]
        }
      ]
    },
    {
      "cell_type": "markdown",
      "source": [
        "search space thường lấy theo chuẩn phân phối hoặc log "
      ],
      "metadata": {
        "id": "1q8f3yfTA8lD"
      }
    },
    {
      "cell_type": "code",
      "source": [
        "search_spaces = {\n",
        "    'learning_rate': Real(0.01, 1.0, 'log-uniform'),     \n",
        "    'n_estimators': Integer(30, 5000),                   # number of tree \n",
        "    'num_leaves': Integer(2, 512),                       # number of node (leaf)\n",
        "    'max_depth': Integer(-1, 256),                       # max_depth of tree\n",
        "    'min_child_samples': Integer(1, 256),                # min data in each leaf\n",
        "    'max_bin': Integer(100, 1000),                       # max number of bin store eigenvalues\n",
        "    'subsample': Real(0.01, 1.0, 'uniform'),             # sample data ratio of training\n",
        "    'subsample_freq': Integer(0, 10),                    # <=0 not active  \n",
        "    'colsample_bytree': Real(0.01, 1.0, 'uniform'),      # sample data ratio of tree \n",
        "    'min_child_weight': Real(0.01, 10.0, 'uniform'),     # min weight of node \n",
        "    'reg_lambda': Real(1e-9, 100.0, 'log-uniform'),      # L2 \n",
        "    'reg_alpha': Real(1e-9, 100.0, 'log-uniform'),       # L1 \n",
        "   }"
      ],
      "metadata": {
        "colab": {
          "base_uri": "https://localhost:8080/"
        },
        "id": "pbqxWNrPAUZK",
        "outputId": "cf0cb1a5-fa03-4dd3-9973-f96c13b82e39"
      },
      "execution_count": 50,
      "outputs": [
        {
          "output_type": "stream",
          "name": "stdout",
          "text": [
            "time: 17.7 ms (started: 2023-05-31 15:28:07 +00:00)\n"
          ]
        }
      ]
    },
    {
      "cell_type": "code",
      "source": [
        "opt = BayesSearchCV(estimator=reg,                                    \n",
        "                    search_spaces=search_spaces,                      \n",
        "                    scoring=scoring,                                  \n",
        "                    cv=kf,                                           \n",
        "                    n_iter=60,                                       \n",
        "                    n_points=3,                                       # number of hyperparameter sets to evaluate simultaneously\n",
        "                    n_jobs=-1,                                        \n",
        "                    iid=False,                                        # if False => optimize base on cv \n",
        "                    return_train_score=False,                         \n",
        "                    refit=False,                                      \n",
        "                    optimizer_kwargs={'base_estimator': 'GP'},        # GP - Gaussian Process: optimize parameter\n",
        "                    random_state=0)    "
      ],
      "metadata": {
        "colab": {
          "base_uri": "https://localhost:8080/"
        },
        "id": "kOD1Re3TMDBK",
        "outputId": "bd87a203-04f6-4851-faae-8bdf4b25f630"
      },
      "execution_count": 51,
      "outputs": [
        {
          "output_type": "stream",
          "name": "stdout",
          "text": [
            "time: 1.95 ms (started: 2023-05-31 15:28:07 +00:00)\n"
          ]
        }
      ]
    },
    {
      "cell_type": "code",
      "source": [
        "overdone_control = DeltaYStopper(delta=0.0001)               # if optimized gain => stop \n",
        "time_limit_control = DeadlineStopper(total_time=60 * 60 * 1) # limit 1h => stop \n",
        "\n",
        "best_params = report_perf(opt, X, y,'LGBMR_regression', \n",
        "                          callbacks=[overdone_control, time_limit_control])"
      ],
      "metadata": {
        "colab": {
          "base_uri": "https://localhost:8080/"
        },
        "id": "SvNKWi78O1qy",
        "outputId": "bd2a35d5-5b36-4a51-f60d-9f7e2e78e0b1"
      },
      "execution_count": 52,
      "outputs": [
        {
          "output_type": "stream",
          "name": "stdout",
          "text": [
            "LGBMR_regression use 3312.96 seconds,  hyperparameters checked: 3, best CV score: -0.726 ± 0.002\n",
            "Best parameters:\n",
            "OrderedDict([('colsample_bytree', 0.5356545233026259),\n",
            "             ('learning_rate', 0.22498782522548938),\n",
            "             ('max_bin', 660),\n",
            "             ('max_depth', 165),\n",
            "             ('min_child_samples', 220),\n",
            "             ('min_child_weight', 9.805757064152607),\n",
            "             ('n_estimators', 667),\n",
            "             ('num_leaves', 3),\n",
            "             ('reg_alpha', 0.0027950270441846913),\n",
            "             ('reg_lambda', 4.6259107779014013e-07),\n",
            "             ('subsample', 0.07025834820938834),\n",
            "             ('subsample_freq', 5)])\n",
            "\n",
            "time: 55min 12s (started: 2023-05-31 15:28:09 +00:00)\n"
          ]
        }
      ]
    },
    {
      "cell_type": "code",
      "source": [
        "# train with best params\n",
        "reg = lgb.LGBMRegressor(boosting_type='gbdt',\n",
        "                        metric='rmse',\n",
        "                        objective='regression',\n",
        "                        n_jobs=1, \n",
        "                        verbose=-1,\n",
        "                        random_state=0,\n",
        "                         **best_params)"
      ],
      "metadata": {
        "colab": {
          "base_uri": "https://localhost:8080/"
        },
        "id": "7Ri46b9ya64F",
        "outputId": "34f92a22-22f2-49a9-9cc5-afc7be317ea2"
      },
      "execution_count": 53,
      "outputs": [
        {
          "output_type": "stream",
          "name": "stdout",
          "text": [
            "time: 1.23 ms (started: 2023-05-31 16:25:26 +00:00)\n"
          ]
        }
      ]
    },
    {
      "cell_type": "code",
      "source": [
        "reg.fit(X, y)\n"
      ],
      "metadata": {
        "colab": {
          "base_uri": "https://localhost:8080/",
          "height": 214
        },
        "id": "4-T2xS4yoOiD",
        "outputId": "63790b15-eff9-4b16-b31c-ae9f86143416"
      },
      "execution_count": 54,
      "outputs": [
        {
          "output_type": "execute_result",
          "data": {
            "text/plain": [
              "LGBMRegressor(colsample_bytree=0.5356545233026259,\n",
              "              learning_rate=0.22498782522548938, max_bin=660, max_depth=165,\n",
              "              metric='rmse', min_child_samples=220,\n",
              "              min_child_weight=9.805757064152607, n_estimators=667, n_jobs=1,\n",
              "              num_leaves=3, objective='regression', random_state=0,\n",
              "              reg_alpha=0.0027950270441846913,\n",
              "              reg_lambda=4.6259107779014013e-07, subsample=0.07025834820938834,\n",
              "              subsample_freq=5, verbose=-1)"
            ],
            "text/html": [
              "<style>#sk-container-id-1 {color: black;background-color: white;}#sk-container-id-1 pre{padding: 0;}#sk-container-id-1 div.sk-toggleable {background-color: white;}#sk-container-id-1 label.sk-toggleable__label {cursor: pointer;display: block;width: 100%;margin-bottom: 0;padding: 0.3em;box-sizing: border-box;text-align: center;}#sk-container-id-1 label.sk-toggleable__label-arrow:before {content: \"▸\";float: left;margin-right: 0.25em;color: #696969;}#sk-container-id-1 label.sk-toggleable__label-arrow:hover:before {color: black;}#sk-container-id-1 div.sk-estimator:hover label.sk-toggleable__label-arrow:before {color: black;}#sk-container-id-1 div.sk-toggleable__content {max-height: 0;max-width: 0;overflow: hidden;text-align: left;background-color: #f0f8ff;}#sk-container-id-1 div.sk-toggleable__content pre {margin: 0.2em;color: black;border-radius: 0.25em;background-color: #f0f8ff;}#sk-container-id-1 input.sk-toggleable__control:checked~div.sk-toggleable__content {max-height: 200px;max-width: 100%;overflow: auto;}#sk-container-id-1 input.sk-toggleable__control:checked~label.sk-toggleable__label-arrow:before {content: \"▾\";}#sk-container-id-1 div.sk-estimator input.sk-toggleable__control:checked~label.sk-toggleable__label {background-color: #d4ebff;}#sk-container-id-1 div.sk-label input.sk-toggleable__control:checked~label.sk-toggleable__label {background-color: #d4ebff;}#sk-container-id-1 input.sk-hidden--visually {border: 0;clip: rect(1px 1px 1px 1px);clip: rect(1px, 1px, 1px, 1px);height: 1px;margin: -1px;overflow: hidden;padding: 0;position: absolute;width: 1px;}#sk-container-id-1 div.sk-estimator {font-family: monospace;background-color: #f0f8ff;border: 1px dotted black;border-radius: 0.25em;box-sizing: border-box;margin-bottom: 0.5em;}#sk-container-id-1 div.sk-estimator:hover {background-color: #d4ebff;}#sk-container-id-1 div.sk-parallel-item::after {content: \"\";width: 100%;border-bottom: 1px solid gray;flex-grow: 1;}#sk-container-id-1 div.sk-label:hover label.sk-toggleable__label {background-color: #d4ebff;}#sk-container-id-1 div.sk-serial::before {content: \"\";position: absolute;border-left: 1px solid gray;box-sizing: border-box;top: 0;bottom: 0;left: 50%;z-index: 0;}#sk-container-id-1 div.sk-serial {display: flex;flex-direction: column;align-items: center;background-color: white;padding-right: 0.2em;padding-left: 0.2em;position: relative;}#sk-container-id-1 div.sk-item {position: relative;z-index: 1;}#sk-container-id-1 div.sk-parallel {display: flex;align-items: stretch;justify-content: center;background-color: white;position: relative;}#sk-container-id-1 div.sk-item::before, #sk-container-id-1 div.sk-parallel-item::before {content: \"\";position: absolute;border-left: 1px solid gray;box-sizing: border-box;top: 0;bottom: 0;left: 50%;z-index: -1;}#sk-container-id-1 div.sk-parallel-item {display: flex;flex-direction: column;z-index: 1;position: relative;background-color: white;}#sk-container-id-1 div.sk-parallel-item:first-child::after {align-self: flex-end;width: 50%;}#sk-container-id-1 div.sk-parallel-item:last-child::after {align-self: flex-start;width: 50%;}#sk-container-id-1 div.sk-parallel-item:only-child::after {width: 0;}#sk-container-id-1 div.sk-dashed-wrapped {border: 1px dashed gray;margin: 0 0.4em 0.5em 0.4em;box-sizing: border-box;padding-bottom: 0.4em;background-color: white;}#sk-container-id-1 div.sk-label label {font-family: monospace;font-weight: bold;display: inline-block;line-height: 1.2em;}#sk-container-id-1 div.sk-label-container {text-align: center;}#sk-container-id-1 div.sk-container {/* jupyter's `normalize.less` sets `[hidden] { display: none; }` but bootstrap.min.css set `[hidden] { display: none !important; }` so we also need the `!important` here to be able to override the default hidden behavior on the sphinx rendered scikit-learn.org. See: https://github.com/scikit-learn/scikit-learn/issues/21755 */display: inline-block !important;position: relative;}#sk-container-id-1 div.sk-text-repr-fallback {display: none;}</style><div id=\"sk-container-id-1\" class=\"sk-top-container\"><div class=\"sk-text-repr-fallback\"><pre>LGBMRegressor(colsample_bytree=0.5356545233026259,\n",
              "              learning_rate=0.22498782522548938, max_bin=660, max_depth=165,\n",
              "              metric=&#x27;rmse&#x27;, min_child_samples=220,\n",
              "              min_child_weight=9.805757064152607, n_estimators=667, n_jobs=1,\n",
              "              num_leaves=3, objective=&#x27;regression&#x27;, random_state=0,\n",
              "              reg_alpha=0.0027950270441846913,\n",
              "              reg_lambda=4.6259107779014013e-07, subsample=0.07025834820938834,\n",
              "              subsample_freq=5, verbose=-1)</pre><b>In a Jupyter environment, please rerun this cell to show the HTML representation or trust the notebook. <br />On GitHub, the HTML representation is unable to render, please try loading this page with nbviewer.org.</b></div><div class=\"sk-container\" hidden><div class=\"sk-item\"><div class=\"sk-estimator sk-toggleable\"><input class=\"sk-toggleable__control sk-hidden--visually\" id=\"sk-estimator-id-1\" type=\"checkbox\" checked><label for=\"sk-estimator-id-1\" class=\"sk-toggleable__label sk-toggleable__label-arrow\">LGBMRegressor</label><div class=\"sk-toggleable__content\"><pre>LGBMRegressor(colsample_bytree=0.5356545233026259,\n",
              "              learning_rate=0.22498782522548938, max_bin=660, max_depth=165,\n",
              "              metric=&#x27;rmse&#x27;, min_child_samples=220,\n",
              "              min_child_weight=9.805757064152607, n_estimators=667, n_jobs=1,\n",
              "              num_leaves=3, objective=&#x27;regression&#x27;, random_state=0,\n",
              "              reg_alpha=0.0027950270441846913,\n",
              "              reg_lambda=4.6259107779014013e-07, subsample=0.07025834820938834,\n",
              "              subsample_freq=5, verbose=-1)</pre></div></div></div></div></div>"
            ]
          },
          "metadata": {},
          "execution_count": 54
        },
        {
          "output_type": "stream",
          "name": "stdout",
          "text": [
            "time: 9.74 s (started: 2023-05-31 16:25:34 +00:00)\n"
          ]
        }
      ]
    }
  ]
}
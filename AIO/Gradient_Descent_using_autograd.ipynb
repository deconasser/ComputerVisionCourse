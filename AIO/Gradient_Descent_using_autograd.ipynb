{
  "nbformat": 4,
  "nbformat_minor": 0,
  "metadata": {
    "colab": {
      "provenance": [],
      "include_colab_link": true
    },
    "kernelspec": {
      "name": "python3",
      "display_name": "Python 3"
    },
    "language_info": {
      "name": "python"
    }
  },
  "cells": [
    {
      "cell_type": "markdown",
      "metadata": {
        "id": "view-in-github",
        "colab_type": "text"
      },
      "source": [
        "<a href=\"https://colab.research.google.com/github/deconasser/ComputerVisionCourse/blob/main/AIO/Gradient_Descent_using_autograd.ipynb\" target=\"_parent\"><img src=\"https://colab.research.google.com/assets/colab-badge.svg\" alt=\"Open In Colab\"/></a>"
      ]
    },
    {
      "cell_type": "markdown",
      "metadata": {
        "id": "K5el2p0mKifP"
      },
      "source": [
        "# Simple linear regression\n",
        "f = x * w"
      ]
    },
    {
      "cell_type": "code",
      "metadata": {
        "id": "ojX-z8_JJrML"
      },
      "source": [
        "import torch\n",
        "\n",
        "x = torch.tensor([1, 2, 3, 4], dtype=torch.float32)\n",
        "y = torch.tensor([2, 4, 6, 8], dtype=torch.float32)\n",
        "\n",
        "w = torch.tensor(1.0, dtype=torch.float32, requires_grad=True)"
      ],
      "execution_count": 1,
      "outputs": []
    },
    {
      "cell_type": "code",
      "metadata": {
        "id": "68y-Yx2lLADP"
      },
      "source": [
        "def forward(x):\n",
        "  return x * w"
      ],
      "execution_count": 2,
      "outputs": []
    },
    {
      "cell_type": "code",
      "metadata": {
        "id": "SZIMCt8CLQ5v"
      },
      "source": [
        "def loss(y, y_pred):\n",
        "  return ((y_pred - y)**2).mean()"
      ],
      "execution_count": 3,
      "outputs": []
    },
    {
      "cell_type": "code",
      "metadata": {
        "colab": {
          "base_uri": "https://localhost:8080/"
        },
        "id": "T_1ww5HyLaoP",
        "outputId": "68f5085a-fa50-44d2-d91b-ad6b4ffd1157"
      },
      "source": [
        "learning_rate = 0.01\n",
        "epochs = 100\n",
        "\n",
        "for epoch in range(epochs):\n",
        "  # predict with forward\n",
        "  y_pred = forward(x)\n",
        "\n",
        "  # calculate loss\n",
        "  l = loss(y, y_pred)\n",
        "\n",
        "  # calculate gradient with backward\n",
        "  l.backward()\n",
        "\n",
        "  # update weight\n",
        "  with torch.no_grad():\n",
        "    w -= learning_rate * w.grad\n",
        "\n",
        "  # set empty gradient\n",
        "  w.grad.zero_()\n",
        "\n",
        "  if epoch % 10 == 0:\n",
        "    print(f'epoch {epoch+1}: w = {w.item():.3f}, loss = {l.item():.8f}')"
      ],
      "execution_count": 4,
      "outputs": [
        {
          "output_type": "stream",
          "name": "stdout",
          "text": [
            "epoch 1: w = 1.150, loss = 7.50000000\n",
            "epoch 11: w = 1.833, loss = 0.29069635\n",
            "epoch 21: w = 1.967, loss = 0.01126729\n",
            "epoch 31: w = 1.994, loss = 0.00043671\n",
            "epoch 41: w = 1.999, loss = 0.00001693\n",
            "epoch 51: w = 2.000, loss = 0.00000066\n",
            "epoch 61: w = 2.000, loss = 0.00000003\n",
            "epoch 71: w = 2.000, loss = 0.00000000\n",
            "epoch 81: w = 2.000, loss = 0.00000000\n",
            "epoch 91: w = 2.000, loss = 0.00000000\n"
          ]
        }
      ]
    },
    {
      "cell_type": "code",
      "metadata": {
        "colab": {
          "base_uri": "https://localhost:8080/"
        },
        "id": "ZynvQxQyMdiI",
        "outputId": "ee656197-774d-44f7-a5b3-bfa798013a09"
      },
      "source": [
        "# predict\n",
        "with torch.no_grad():\n",
        "  new_x = torch.tensor(5, dtype=torch.float32)\n",
        "  pred = new_x * w\n",
        "  print(pred)"
      ],
      "execution_count": 5,
      "outputs": [
        {
          "output_type": "stream",
          "name": "stdout",
          "text": [
            "tensor(10.0000)\n"
          ]
        }
      ]
    }
  ]
}
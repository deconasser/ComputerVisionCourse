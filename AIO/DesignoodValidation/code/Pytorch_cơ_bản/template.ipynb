{
  "nbformat": 4,
  "nbformat_minor": 0,
  "metadata": {
    "colab": {
      "name": "template.ipynb",
      "provenance": []
    },
    "kernelspec": {
      "name": "python3",
      "display_name": "Python 3"
    },
    "language_info": {
      "name": "python"
    },
    "accelerator": "GPU"
  },
  "cells": [
    {
      "cell_type": "code",
      "metadata": {
        "id": "10SgesKXkj3k"
      },
      "source": [
        "import torch\n",
        "import torchvision\n",
        "\n",
        "import torch.nn as nn\n",
        "import torchvision.transforms as transforms\n",
        "import numpy as np"
      ],
      "execution_count": 3,
      "outputs": []
    },
    {
      "cell_type": "markdown",
      "metadata": {
        "id": "XKdLGvgemFot"
      },
      "source": [
        "# Ví dụ về Autograd"
      ]
    },
    {
      "cell_type": "code",
      "metadata": {
        "colab": {
          "base_uri": "https://localhost:8080/"
        },
        "id": "btUmqIxzmBoH",
        "outputId": "f5b73370-ad75-4ad8-af0a-035fcefc5db7"
      },
      "source": [
        "# Xây dựng đồ thị tính toán với phương trình: y = 5*x + 10\n",
        "x = torch.tensor(5., requires_grad=True)\n",
        "w = torch.tensor(3., requires_grad=True)\n",
        "b = torch.tensor(10., requires_grad=True)\n",
        "\n",
        "y = w*x + b\n",
        "\n",
        "# Thực hiện tính gradients.\n",
        "y.backward()\n",
        "\n",
        "print(\"x.grad: \", x.grad)\n",
        "print(\"w.grad: \", w.grad)\n",
        "print(\"b.grad: \", b.grad)"
      ],
      "execution_count": 3,
      "outputs": [
        {
          "output_type": "stream",
          "text": [
            "x.grad:  tensor(3.)\n",
            "w.grad:  tensor(5.)\n",
            "b.grad:  tensor(1.)\n"
          ],
          "name": "stdout"
        }
      ]
    },
    {
      "cell_type": "markdown",
      "metadata": {
        "id": "atevqor-n_Z8"
      },
      "source": [
        "# Ví dụ về Autograd (tiếp theo)"
      ]
    },
    {
      "cell_type": "code",
      "metadata": {
        "id": "Jbb4GNRGoCla",
        "colab": {
          "base_uri": "https://localhost:8080/"
        },
        "outputId": "240c6e2e-4d1c-42d4-b784-088ed10683d4"
      },
      "source": [
        "# Tạo 2 tensor x, y có kích thước lần lượt là (10, 4) và (10, 3)\n",
        "x = torch.randn(10, 4)\n",
        "y = torch.randn(10, 3)\n",
        "\n",
        "# Tạo fully connected layer\n",
        "linear_layer = nn.Linear(4, 3)\n",
        "print(\"w: \", linear_layer.weight)\n",
        "print(\"b: \", linear_layer.bias)\n",
        "\n",
        "# Xây dựng hàm loss và optimizer \n",
        "criterion = nn.MSELoss()\n",
        "optimizer = torch.optim.SGD(linear_layer.parameters(), lr=0.001)\n",
        "\n",
        "# Lan truyền tiến \n",
        "forward = linear_layer(x)\n",
        "\n",
        "# Tính giá trị loss\n",
        "loss = criterion(forward, y)\n",
        "print(\"loss: \", loss.item())\n",
        "\n",
        "# Lan truyền ngược\n",
        "loss.backward()\n",
        "\n",
        "# Xuất giá trị đạo hàm\n",
        "print(\"dL/dW: \", linear_layer.weight.grad)\n",
        "print(\"dL/dB: \", linear_layer.bias.grad)\n",
        "\n",
        "optimizer.step()\n",
        "\n",
        "# Xuất kết quả sau một bước đaọ hàm\n",
        "pred = linear_layer(x)\n",
        "loss = criterion(pred, y)\n",
        "print('loss after 1 step optimization: ', loss.item())"
      ],
      "execution_count": 6,
      "outputs": [
        {
          "output_type": "stream",
          "text": [
            "w:  Parameter containing:\n",
            "tensor([[ 0.4931, -0.2801, -0.3761, -0.2237],\n",
            "        [ 0.2831,  0.2860, -0.1733, -0.2750],\n",
            "        [ 0.2147, -0.2295, -0.1834,  0.0517]], requires_grad=True)\n",
            "b:  Parameter containing:\n",
            "tensor([0.2266, 0.4997, 0.3834], requires_grad=True)\n",
            "loss:  0.9307112097740173\n",
            "dL/dW:  tensor([[ 0.2431,  0.1855, -0.2187, -0.1786],\n",
            "        [ 0.0971,  0.2582, -0.1240, -0.1130],\n",
            "        [ 0.0187,  0.0487, -0.2785, -0.1699]])\n",
            "dL/dB:  tensor([0.4727, 0.4710, 0.3184])\n",
            "loss after 1 step optimization:  0.9297783970832825\n"
          ],
          "name": "stdout"
        }
      ]
    },
    {
      "cell_type": "markdown",
      "metadata": {
        "id": "OPhG-NleWaN6"
      },
      "source": [
        "# Load dữ liệu với numpy"
      ]
    },
    {
      "cell_type": "code",
      "metadata": {
        "colab": {
          "base_uri": "https://localhost:8080/"
        },
        "id": "nrq2fRxUVAB0",
        "outputId": "08ca4bda-afb7-4e37-8f77-7a1863e62d53"
      },
      "source": [
        "x = np.array([[1, 2], [3, 4]])\n",
        "\n",
        "# Chuyển đổi numpy array sang torch tensor\n",
        "y = torch.from_numpy(x)\n",
        "print(\"type(y): \", type(y))\n",
        "\n",
        "# Chuyển đổi torch tensor sang numpy array\n",
        "z = y.numpy()\n",
        "print(\"type(z): \", type(z))"
      ],
      "execution_count": 7,
      "outputs": [
        {
          "output_type": "stream",
          "text": [
            "type(y):  <class 'torch.Tensor'>\n",
            "type(z):  <class 'numpy.ndarray'>\n"
          ],
          "name": "stdout"
        }
      ]
    },
    {
      "cell_type": "markdown",
      "metadata": {
        "id": "OCZIiO1IXEoF"
      },
      "source": [
        "# Input pipeline "
      ]
    },
    {
      "cell_type": "code",
      "metadata": {
        "id": "-8F8Z1YKXKsF"
      },
      "source": [
        "# Sử dụng dữ liệu với torchvision.datasets\n",
        "train_dataset = torchvision.datasets.CIFAR10(root=\"./data\",\n",
        "                                             train=True,\n",
        "                                             transform=transforms.ToTensor(),\n",
        "                                             download=True)\n",
        "\n",
        "image, label = train_dataset[0]\n",
        "print(\"size: \", image.size())\n",
        "print(\"labelL: \", label)\n",
        "\n",
        "# DataLoader\n",
        "train_loader = torch.utils.data.DataLoader(dataset=train_dataset,\n",
        "                                           batch_size=64,\n",
        "                                           shuffle=True)\n",
        "\n",
        "# Khi bắt đầu lặp, sẽ lần lượt đọc dữ liệu đưa vào queue và thread\n",
        "data_iter = iter(train_loader)\n",
        "\n",
        "# Thực hiện mini-batch trên các ảnh và nhãn tương ứng\n",
        "images, labels = data_iter.next()\n",
        "\n",
        "# Quá trình load ảnh thực tế được thực hiện như sau\n",
        "for image, label in train_loader:\n",
        "  # Quá trình huấn luyện được thực hiện tại đây\n",
        "  pass"
      ],
      "execution_count": null,
      "outputs": []
    },
    {
      "cell_type": "markdown",
      "metadata": {
        "id": "hkDtaLqmpAbr"
      },
      "source": [
        "# Input pipeline for custom dataset\n"
      ]
    },
    {
      "cell_type": "code",
      "metadata": {
        "id": "miASpli5pKXQ"
      },
      "source": [
        "# Xây dựng hàm xử lý cho custom dataset\n",
        "class CustomDataset(object): # torch.utils.data.Dataset\n",
        "  def __init__(self):\n",
        "    # Khởi tạo danh sách đường dẫn hình hoặc tên hình.\n",
        "    pass\n",
        "  \n",
        "  def get_item(self, index):\n",
        "    # Đọc data từ file (numpy.fromfile, PIL.Image.open)\n",
        "    # Tiền xử lý dữ liệ (torchvision.Transform)\n",
        "    # Trả về một cặp dữ liệu (image và label)\n",
        "    pass \n",
        "  \n",
        "  def __len__(self):\n",
        "    # Trả về số lượng mẫu trong dữ liệu \n",
        "    pass \n"
      ],
      "execution_count": null,
      "outputs": []
    },
    {
      "cell_type": "markdown",
      "metadata": {
        "id": "OBQEIXR9qpj_"
      },
      "source": [
        "# Pretrained model"
      ]
    },
    {
      "cell_type": "code",
      "metadata": {
        "colab": {
          "base_uri": "https://localhost:8080/"
        },
        "id": "h_36D_LUqs3N",
        "outputId": "7a1b0171-1e0b-473c-a6a5-4a9fc9842539"
      },
      "source": [
        "# Sử dụng pretrained ResNet-18\n",
        "resnet = torchvision.models.resnet18(pretrained=True)\n",
        "\n",
        "# Finetune model \n",
        "for param in resnet.parameters():\n",
        "  param.requires_grad = False\n",
        "\n",
        "# Thay thế top k layer đầu tiên cho finetuning\n",
        "resnet.fc = nn.Linear(resnet.fc.in_features, 100) # k = 100\n",
        "\n",
        "# Lan truyền tiến \n",
        "image = torch.rand(64, 3, 224, 224)\n",
        "outputs = resnet(image)\n",
        "print(\"output size: \", outputs.size())"
      ],
      "execution_count": 5,
      "outputs": [
        {
          "output_type": "stream",
          "text": [
            "output size:  torch.Size([64, 100])\n"
          ],
          "name": "stdout"
        }
      ]
    },
    {
      "cell_type": "markdown",
      "metadata": {
        "id": "K7PVX_busNtW"
      },
      "source": [
        "# Save and Load model"
      ]
    },
    {
      "cell_type": "code",
      "metadata": {
        "colab": {
          "base_uri": "https://localhost:8080/"
        },
        "id": "J7UqBb9LsRck",
        "outputId": "2b6c0987-e3df-4a2c-b975-bc8c0809b34b"
      },
      "source": [
        "torch.save(resnet, \"model_resnet18.ckpt\")\n",
        "model = torch.load('model_resnet18.ckpt')\n",
        "print(\"load model....\")\n",
        "\n",
        "# Save and load only the model parameters (thường dùng).\n",
        "torch.save(resnet.state_dict(), 'params_resnet.ckpt')\n",
        "resnet.load_state_dict(torch.load('params_resnet.ckpt'))\n",
        "print(\"load params......\")"
      ],
      "execution_count": 6,
      "outputs": [
        {
          "output_type": "stream",
          "text": [
            "load model....\n",
            "load params......\n"
          ],
          "name": "stdout"
        }
      ]
    }
  ]
}
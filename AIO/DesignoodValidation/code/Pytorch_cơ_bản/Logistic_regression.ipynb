{
  "nbformat": 4,
  "nbformat_minor": 0,
  "metadata": {
    "colab": {
      "name": "Logistic_regression.ipynb",
      "provenance": []
    },
    "kernelspec": {
      "name": "python3",
      "display_name": "Python 3"
    },
    "language_info": {
      "name": "python"
    }
  },
  "cells": [
    {
      "cell_type": "code",
      "metadata": {
        "id": "axDOzm6e7F4f"
      },
      "source": [
        "import torch \n",
        "import torchvision\n",
        "import torch.nn as nn\n",
        "import torchvision.transforms as transforms"
      ],
      "execution_count": 3,
      "outputs": []
    },
    {
      "cell_type": "markdown",
      "metadata": {
        "id": "KvCRQeUK7hMK"
      },
      "source": [
        "# Set hyper-params"
      ]
    },
    {
      "cell_type": "code",
      "metadata": {
        "id": "4avsDpL87jhf"
      },
      "source": [
        "input_size = 28*28\n",
        "num_classes = 10\n",
        "num_epochs = 10\n",
        "batch_size = 100\n",
        "learning_rate = 0.001"
      ],
      "execution_count": 4,
      "outputs": []
    },
    {
      "cell_type": "markdown",
      "metadata": {
        "id": "41I55db57nWS"
      },
      "source": [
        "# CIFAR-10 dataset"
      ]
    },
    {
      "cell_type": "code",
      "metadata": {
        "id": "HlRhUJ1aP10-"
      },
      "source": [
        "!wget www.di.ens.fr/~lelarge/MNIST.tar.gz\n",
        "!tar -zxvf MNIST.tar.gz"
      ],
      "execution_count": null,
      "outputs": []
    },
    {
      "cell_type": "code",
      "metadata": {
        "id": "bal0my717qGO"
      },
      "source": [
        "train_dataset = torchvision.datasets.MNIST(root='./', \n",
        "                                           train=True, \n",
        "                                           transform=transforms.ToTensor(),\n",
        "                                           download=True)\n",
        "\n",
        "test_dataset = torchvision.datasets.MNIST(root='./', \n",
        "                                          train=False, \n",
        "                                          transform=transforms.ToTensor())\n",
        "\n",
        "# Data loader (input pipeline)\n",
        "train_loader = torch.utils.data.DataLoader(dataset=train_dataset, \n",
        "                                           batch_size=batch_size, \n",
        "                                           shuffle=True)\n",
        "\n",
        "test_loader = torch.utils.data.DataLoader(dataset=test_dataset, \n",
        "                                          batch_size=batch_size, \n",
        "                                          shuffle=False)"
      ],
      "execution_count": 7,
      "outputs": []
    },
    {
      "cell_type": "markdown",
      "metadata": {
        "id": "V1p04_p07_Mx"
      },
      "source": [
        "# Create logistic regression model"
      ]
    },
    {
      "cell_type": "code",
      "metadata": {
        "id": "u8PazUty8BEe"
      },
      "source": [
        "model = nn.Linear(input_size, num_classes)"
      ],
      "execution_count": 8,
      "outputs": []
    },
    {
      "cell_type": "markdown",
      "metadata": {
        "id": "gmzohJ7-8Goq"
      },
      "source": [
        "# Loss and optimizer"
      ]
    },
    {
      "cell_type": "code",
      "metadata": {
        "id": "-HxcOZlZ8IIv"
      },
      "source": [
        "criterion = nn.CrossEntropyLoss()\n",
        "optimizer = torch.optim.SGD(model.parameters(), lr=learning_rate)"
      ],
      "execution_count": 9,
      "outputs": []
    },
    {
      "cell_type": "markdown",
      "metadata": {
        "id": "U-nu7HQe8Vci"
      },
      "source": [
        "# Train model"
      ]
    },
    {
      "cell_type": "code",
      "metadata": {
        "colab": {
          "base_uri": "https://localhost:8080/"
        },
        "id": "braftAK78WWm",
        "outputId": "a787cc6b-82f8-4c40-ac22-5741b77d5d9b"
      },
      "source": [
        "total_step = len(train_loader)\n",
        "for epoch in range(num_epochs):\n",
        "  for i, (images, labels) in enumerate(train_loader):\n",
        "    # reshape image to (batch_size, input_size)\n",
        "    images = images.reshape(-1, input_size)\n",
        "\n",
        "    # forward pass\n",
        "    outputs = model(images)\n",
        "    loss = criterion(outputs, labels)\n",
        "\n",
        "    # backward and optimize\n",
        "    optimizer.zero_grad()\n",
        "    loss.backward()\n",
        "    optimizer.step()\n",
        "\n",
        "    if (i+1)%100 == 0:\n",
        "      print ('Epoch [{}/{}], Step [{}/{}], Loss: {}' \n",
        "              .format(epoch+1, num_epochs, i+1, total_step, loss.item()))"
      ],
      "execution_count": 11,
      "outputs": [
        {
          "output_type": "stream",
          "text": [
            "Epoch [1/10], Step [100/600], Loss: 1.724808692932129\n",
            "Epoch [1/10], Step [200/600], Loss: 1.7019459009170532\n",
            "Epoch [1/10], Step [300/600], Loss: 1.7182083129882812\n",
            "Epoch [1/10], Step [400/600], Loss: 1.5894676446914673\n",
            "Epoch [1/10], Step [500/600], Loss: 1.567979097366333\n",
            "Epoch [1/10], Step [600/600], Loss: 1.45676589012146\n",
            "Epoch [2/10], Step [100/600], Loss: 1.4563164710998535\n",
            "Epoch [2/10], Step [200/600], Loss: 1.3516099452972412\n",
            "Epoch [2/10], Step [300/600], Loss: 1.363423466682434\n",
            "Epoch [2/10], Step [400/600], Loss: 1.3176112174987793\n",
            "Epoch [2/10], Step [500/600], Loss: 1.340431809425354\n",
            "Epoch [2/10], Step [600/600], Loss: 1.289071798324585\n",
            "Epoch [3/10], Step [100/600], Loss: 1.24811589717865\n",
            "Epoch [3/10], Step [200/600], Loss: 1.1213295459747314\n",
            "Epoch [3/10], Step [300/600], Loss: 1.1432856321334839\n",
            "Epoch [3/10], Step [400/600], Loss: 1.1665771007537842\n",
            "Epoch [3/10], Step [500/600], Loss: 1.1690773963928223\n",
            "Epoch [3/10], Step [600/600], Loss: 1.120695948600769\n",
            "Epoch [4/10], Step [100/600], Loss: 1.065430760383606\n",
            "Epoch [4/10], Step [200/600], Loss: 1.1317877769470215\n",
            "Epoch [4/10], Step [300/600], Loss: 1.0348258018493652\n",
            "Epoch [4/10], Step [400/600], Loss: 1.0076769590377808\n",
            "Epoch [4/10], Step [500/600], Loss: 0.9474086165428162\n",
            "Epoch [4/10], Step [600/600], Loss: 0.9906960129737854\n",
            "Epoch [5/10], Step [100/600], Loss: 0.9538317322731018\n",
            "Epoch [5/10], Step [200/600], Loss: 0.9972490072250366\n",
            "Epoch [5/10], Step [300/600], Loss: 0.9597010016441345\n",
            "Epoch [5/10], Step [400/600], Loss: 1.0723280906677246\n",
            "Epoch [5/10], Step [500/600], Loss: 0.9285397529602051\n",
            "Epoch [5/10], Step [600/600], Loss: 1.0034857988357544\n",
            "Epoch [6/10], Step [100/600], Loss: 0.984534740447998\n",
            "Epoch [6/10], Step [200/600], Loss: 0.8732686638832092\n",
            "Epoch [6/10], Step [300/600], Loss: 0.9558896422386169\n",
            "Epoch [6/10], Step [400/600], Loss: 0.8231392502784729\n",
            "Epoch [6/10], Step [500/600], Loss: 0.9132731556892395\n",
            "Epoch [6/10], Step [600/600], Loss: 0.9254110455513\n",
            "Epoch [7/10], Step [100/600], Loss: 0.8662234544754028\n",
            "Epoch [7/10], Step [200/600], Loss: 0.799582302570343\n",
            "Epoch [7/10], Step [300/600], Loss: 0.7571974396705627\n",
            "Epoch [7/10], Step [400/600], Loss: 0.794343888759613\n",
            "Epoch [7/10], Step [500/600], Loss: 0.8060710430145264\n",
            "Epoch [7/10], Step [600/600], Loss: 0.8036279082298279\n",
            "Epoch [8/10], Step [100/600], Loss: 0.8049810528755188\n",
            "Epoch [8/10], Step [200/600], Loss: 0.8266807794570923\n",
            "Epoch [8/10], Step [300/600], Loss: 0.7135115265846252\n",
            "Epoch [8/10], Step [400/600], Loss: 0.667212963104248\n",
            "Epoch [8/10], Step [500/600], Loss: 0.7328259944915771\n",
            "Epoch [8/10], Step [600/600], Loss: 0.7037526965141296\n",
            "Epoch [9/10], Step [100/600], Loss: 0.782603919506073\n",
            "Epoch [9/10], Step [200/600], Loss: 0.838489294052124\n",
            "Epoch [9/10], Step [300/600], Loss: 0.739727795124054\n",
            "Epoch [9/10], Step [400/600], Loss: 0.7520444989204407\n",
            "Epoch [9/10], Step [500/600], Loss: 0.8349564075469971\n",
            "Epoch [9/10], Step [600/600], Loss: 0.753904402256012\n",
            "Epoch [10/10], Step [100/600], Loss: 0.7786263227462769\n",
            "Epoch [10/10], Step [200/600], Loss: 0.6437644958496094\n",
            "Epoch [10/10], Step [300/600], Loss: 0.6957972645759583\n",
            "Epoch [10/10], Step [400/600], Loss: 0.6507402062416077\n",
            "Epoch [10/10], Step [500/600], Loss: 0.6119399666786194\n",
            "Epoch [10/10], Step [600/600], Loss: 0.7352899312973022\n"
          ],
          "name": "stdout"
        }
      ]
    },
    {
      "cell_type": "markdown",
      "metadata": {
        "id": "l8qE8ITbQkfI"
      },
      "source": [
        "# Test model"
      ]
    },
    {
      "cell_type": "code",
      "metadata": {
        "colab": {
          "base_uri": "https://localhost:8080/"
        },
        "id": "2__2ArCtQg2m",
        "outputId": "5b987e32-c75c-4714-9fa9-3140cf0fc72a"
      },
      "source": [
        "with torch.no_grad():\n",
        "  correct = 0\n",
        "  total = 0\n",
        "  for images, labels, in test_loader:\n",
        "    images = images.reshape(-1, input_size)\n",
        "    outputs = model(images)\n",
        "    _, predicted = torch.max(outputs.data, 1)\n",
        "    total += labels.size(0)\n",
        "    correct += (predicted == labels).sum()\n",
        "\n",
        "  print(\"Acc: \", (100*correct)/total)"
      ],
      "execution_count": 12,
      "outputs": [
        {
          "output_type": "stream",
          "text": [
            "Acc:  tensor(85.9500)\n"
          ],
          "name": "stdout"
        }
      ]
    },
    {
      "cell_type": "markdown",
      "metadata": {
        "id": "dJLoObJ_RXsV"
      },
      "source": [
        "# Save model"
      ]
    },
    {
      "cell_type": "code",
      "metadata": {
        "id": "CFjlhxN5RZFc"
      },
      "source": [
        "torch.save(model.state_dict(), 'logistic_regression_model.ckpt')"
      ],
      "execution_count": 13,
      "outputs": []
    }
  ]
}
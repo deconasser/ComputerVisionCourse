{
  "nbformat": 4,
  "nbformat_minor": 0,
  "metadata": {
    "colab": {
      "name": "LogisticRegression.ipynb",
      "provenance": []
    },
    "kernelspec": {
      "name": "python3",
      "display_name": "Python 3"
    },
    "language_info": {
      "name": "python"
    }
  },
  "cells": [
    {
      "cell_type": "code",
      "metadata": {
        "id": "s3Ak7WR22Gu-"
      },
      "source": [
        "import torch\n",
        "from sklearn.datasets import make_blobs"
      ],
      "execution_count": 1,
      "outputs": []
    },
    {
      "cell_type": "code",
      "metadata": {
        "id": "4LpT0SMA2Rlf"
      },
      "source": [
        "class LogisticRegression:\n",
        "  def __init__(self, X, lr=0.01, epochs=1000):\n",
        "    \"\"\"\n",
        "      X: input tensor\n",
        "      lr: learning rate\n",
        "      epochs: number of times the model iterates over complete dataset\n",
        "      weights: params learned during training\n",
        "      bias: param learned during training\n",
        "    \"\"\"\n",
        "    self.lr = lr\n",
        "    self.epochs = epochs\n",
        "    self.m, self.n = X.shape\n",
        "    self.weights = torch.zeros((self.n, 1), dtype=torch.double)\n",
        "    self.bias = 0\n",
        "  \n",
        "  def sigmoid(self, z):\n",
        "    \"\"\"\n",
        "      z: latent variable presents (wx + b)\n",
        "      return: the real value between 0 and 1 representing probability score\n",
        "    \"\"\"\n",
        "    return 1 / (1 + torch.exp(-z))\n",
        "  \n",
        "  def loss(self, yhat):\n",
        "    \"\"\"\n",
        "      yhat: estimated y\n",
        "    \"\"\"\n",
        "    return -(1/self.m) * torch.sum(y*torch.log(yhat) + (1-y)*torch.log(1-yhat)) \n",
        "  \n",
        "  def gradient(self, y_predict):\n",
        "    \"\"\"\n",
        "      y_predict: estimate y\n",
        "      return: gradient is calculated to find how much change is required in parameters to reduce the loss.\n",
        "    \"\"\"\n",
        "    dw = 1/self.m * torch.mm(X.T, (y_predict-y))\n",
        "    db = 1/self.m * torch.sum(y_predict-y)\n",
        "\n",
        "    return dw, db\n",
        "  \n",
        "  def run(self, X, y):\n",
        "    \"\"\"\n",
        "      X: input tensor\n",
        "      y: output tensor\n",
        "      y_predict: Predict tensor\n",
        "      cost: Different between ground truth and predicted\n",
        "      dw, dc: weight and bias update for weight tensor and bias tensor\n",
        "      return update weights and bias\n",
        "    \"\"\"\n",
        "    for epoch in range(1, self.epochs+1):\n",
        "      y_predict = self.sigmoid(torch.mm(X, self.weights) + self.bias)\n",
        "      cost = self.loss(y_predict)\n",
        "      dw, db = self.gradient(y_predict)\n",
        "\n",
        "      self.weights -= self.lr * dw \n",
        "      self.bias -= self.lr * db\n",
        "\n",
        "      if epoch % 100 == 0:\n",
        "        print(f\"Cost after iteration {epoch}: {cost}\")\n",
        "    \n",
        "    return self.weights, self.bias\n",
        "  \n",
        "  def predict(self, X):\n",
        "    \"\"\"\n",
        "      X: input tensor\n",
        "      y_predict_label: Converts float value to int/bool true(1) or false(0)\n",
        "      return output labels as 0 and 1\n",
        "    \"\"\"\n",
        "    y_predict = self.sigmoid(torch.mm(X, self.weights) + self.bias)\n",
        "    y_predict_labels = y_predict > 0.5\n",
        "\n",
        "    return y_predict_labels"
      ],
      "execution_count": 20,
      "outputs": []
    },
    {
      "cell_type": "code",
      "metadata": {
        "id": "XD9f3vXr7lJU"
      },
      "source": [
        "torch.manual_seed(0)\n",
        "X, y = make_blobs(n_samples=1000, centers=2)\n",
        "X = torch.tensor(X)\n",
        "y = torch.tensor(y).unsqueeze(1)"
      ],
      "execution_count": 16,
      "outputs": []
    },
    {
      "cell_type": "code",
      "metadata": {
        "id": "VFv9Gg4Y79x5"
      },
      "source": [
        "model = LogisticRegression(X)\n",
        "w, b = model.run(X, y)\n",
        "y_predict = model.predict(X)\n",
        "\n",
        "print(f\"Accuracy: {torch.sum(y == y_predict) // X.shape[0]}\")"
      ],
      "execution_count": null,
      "outputs": []
    }
  ]
}
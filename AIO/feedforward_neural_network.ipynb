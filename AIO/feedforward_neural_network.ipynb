{
  "nbformat": 4,
  "nbformat_minor": 0,
  "metadata": {
    "colab": {
      "provenance": [],
      "gpuType": "T4",
      "include_colab_link": true
    },
    "kernelspec": {
      "name": "python3",
      "display_name": "Python 3"
    },
    "language_info": {
      "name": "python"
    },
    "accelerator": "GPU"
  },
  "cells": [
    {
      "cell_type": "markdown",
      "metadata": {
        "id": "view-in-github",
        "colab_type": "text"
      },
      "source": [
        "<a href=\"https://colab.research.google.com/github/deconasser/ComputerVisionCourse/blob/main/AIO/feedforward_neural_network.ipynb\" target=\"_parent\"><img src=\"https://colab.research.google.com/assets/colab-badge.svg\" alt=\"Open In Colab\"/></a>"
      ]
    },
    {
      "cell_type": "code",
      "source": [
        "import torch\n",
        "import torchvision\n",
        "import torch.nn as nn\n",
        "import torchvision.transforms as tranforms\n",
        "from torch.utils.data import DataLoader"
      ],
      "metadata": {
        "id": "vub2KdfNuZqx"
      },
      "execution_count": 3,
      "outputs": []
    },
    {
      "cell_type": "code",
      "source": [
        "device = torch.device(\"cuda\" if torch.cuda.is_available() else \"cpu\")\n",
        "device"
      ],
      "metadata": {
        "id": "P7WHJrBBulK4",
        "outputId": "077b1181-37fc-4fd1-f774-4c10d4347e45",
        "colab": {
          "base_uri": "https://localhost:8080/"
        }
      },
      "execution_count": 4,
      "outputs": [
        {
          "output_type": "execute_result",
          "data": {
            "text/plain": [
              "device(type='cuda')"
            ]
          },
          "metadata": {},
          "execution_count": 4
        }
      ]
    },
    {
      "cell_type": "markdown",
      "source": [
        "**Hyper params**"
      ],
      "metadata": {
        "id": "P6rbUjxZux-o"
      }
    },
    {
      "cell_type": "code",
      "source": [
        "input = 28*28\n",
        "hidden_layers = 500\n",
        "num_classes = 10\n",
        "num_epochs = 10\n",
        "batch_size = 100\n",
        "learning_rate = 0.001"
      ],
      "metadata": {
        "id": "YBpEeuuUuugi"
      },
      "execution_count": 5,
      "outputs": []
    },
    {
      "cell_type": "markdown",
      "source": [
        "**MNIST DATASET**"
      ],
      "metadata": {
        "id": "DEGxQ981vElk"
      }
    },
    {
      "cell_type": "code",
      "source": [
        "!wget www.di.ens.fr/~lelarge/MNIST.tar.gz\n",
        "!tar -zxvf MNIST.tar.gz"
      ],
      "metadata": {
        "id": "hP4na03mvDTH",
        "outputId": "864bd0b0-3ca4-4296-dc52-1f22c8786eea",
        "colab": {
          "base_uri": "https://localhost:8080/"
        }
      },
      "execution_count": 6,
      "outputs": [
        {
          "output_type": "stream",
          "name": "stdout",
          "text": [
            "--2024-08-01 07:25:38--  http://www.di.ens.fr/~lelarge/MNIST.tar.gz\n",
            "Resolving www.di.ens.fr (www.di.ens.fr)... 129.199.99.14\n",
            "Connecting to www.di.ens.fr (www.di.ens.fr)|129.199.99.14|:80... connected.\n",
            "HTTP request sent, awaiting response... 302 Found\n",
            "Location: https://www.di.ens.fr/~lelarge/MNIST.tar.gz [following]\n",
            "--2024-08-01 07:25:39--  https://www.di.ens.fr/~lelarge/MNIST.tar.gz\n",
            "Connecting to www.di.ens.fr (www.di.ens.fr)|129.199.99.14|:443... connected.\n",
            "HTTP request sent, awaiting response... 200 OK\n",
            "Length: unspecified [application/x-gzip]\n",
            "Saving to: ‘MNIST.tar.gz’\n",
            "\n",
            "MNIST.tar.gz            [              <=>   ]  33.20M  10.8MB/s    in 3.1s    \n",
            "\n",
            "2024-08-01 07:25:42 (10.8 MB/s) - ‘MNIST.tar.gz’ saved [34813078]\n",
            "\n",
            "MNIST/\n",
            "MNIST/raw/\n",
            "MNIST/raw/train-labels-idx1-ubyte\n",
            "MNIST/raw/t10k-labels-idx1-ubyte.gz\n",
            "MNIST/raw/t10k-labels-idx1-ubyte\n",
            "MNIST/raw/t10k-images-idx3-ubyte.gz\n",
            "MNIST/raw/train-images-idx3-ubyte\n",
            "MNIST/raw/train-labels-idx1-ubyte.gz\n",
            "MNIST/raw/t10k-images-idx3-ubyte\n",
            "MNIST/raw/train-images-idx3-ubyte.gz\n",
            "MNIST/processed/\n",
            "MNIST/processed/training.pt\n",
            "MNIST/processed/test.pt\n"
          ]
        }
      ]
    },
    {
      "cell_type": "code",
      "source": [
        "transform = tranforms.ToTensor()\n",
        "train_dataset = torchvision.datasets.MNIST(root=\"./\", train=True, transform=transform, download=True)\n",
        "test_dataset = torchvision.datasets.MNIST(root=\"./\", train=False, transform=transform)"
      ],
      "metadata": {
        "id": "UXuOqdwqvKDZ"
      },
      "execution_count": 72,
      "outputs": []
    },
    {
      "cell_type": "code",
      "source": [
        "#Data Loader\n",
        "train_loader = DataLoader(dataset=train_dataset, batch_size=batch_size, shuffle=True)\n",
        "test_loader = DataLoader(dataset= test_dataset, batch_size=batch_size, shuffle=False)"
      ],
      "metadata": {
        "id": "jzI45nApvt10"
      },
      "execution_count": 8,
      "outputs": []
    },
    {
      "cell_type": "markdown",
      "source": [
        "**FCN**"
      ],
      "metadata": {
        "id": "HeQzqj2tx_JO"
      }
    },
    {
      "cell_type": "code",
      "source": [
        "class NeuralNet(nn.Module):\n",
        "  def __init__(self, input_size, hidden_size, num_classes):\n",
        "    super(NeuralNet, self).__init__()\n",
        "    self.fc1 = nn.Linear(input_size, hidden_size)\n",
        "    self.relu = nn.ReLU()\n",
        "    self.fc2 = nn.Linear(hidden_size, num_classes)\n",
        "\n",
        "  def forward(self, x):\n",
        "    out = self.fc1(x)\n",
        "    out = self.relu(out)\n",
        "    out = self.fc2(out)\n",
        "\n",
        "    return out"
      ],
      "metadata": {
        "id": "TPgf0KO0x86n"
      },
      "execution_count": 73,
      "outputs": []
    },
    {
      "cell_type": "markdown",
      "source": [
        "**Create Model**"
      ],
      "metadata": {
        "id": "DECw2JYCzNho"
      }
    },
    {
      "cell_type": "code",
      "source": [
        "model = NeuralNetwork(input, hidden_layers, num_classes).to(device)"
      ],
      "metadata": {
        "id": "Dx1Mh5apzMaX"
      },
      "execution_count": 74,
      "outputs": []
    },
    {
      "cell_type": "markdown",
      "source": [
        "**Optimizer**"
      ],
      "metadata": {
        "id": "QULLE6Gu0Vf0"
      }
    },
    {
      "cell_type": "code",
      "source": [
        "criterion = nn.CrossEntropyLoss()\n",
        "optimizer = torch.optim.SGD(model.parameters(), lr=learning_rate)"
      ],
      "metadata": {
        "id": "LWLmij900Tjr"
      },
      "execution_count": 76,
      "outputs": []
    },
    {
      "cell_type": "markdown",
      "source": [
        "**TRAIN MODEL**"
      ],
      "metadata": {
        "id": "aZMXF9342xC6"
      }
    },
    {
      "cell_type": "code",
      "source": [
        "total_step = len(train_loader)\n",
        "for epoch in range(num_epochs):\n",
        "  for i, (images, labels) in enumerate(train_loader):\n",
        "    # Move tensor to the configured device\n",
        "    images = images.reshape(-1, input).to(device)\n",
        "    labels = labels.to(device)\n",
        "\n",
        "    # forward pass\n",
        "    outputs = model(images)\n",
        "    loss = criterion(outputs, labels)\n",
        "\n",
        "    # backward and optimizer\n",
        "    optimizer.zero_grad()\n",
        "    loss.backward()\n",
        "    optimizer.step()\n",
        "\n",
        "    if (i+1) % 100 == 0:\n",
        "          print ('Epoch [{}/{}], Step [{}/{}], Loss: {}'\n",
        "                  .format(epoch+1, num_epochs, i+1, total_step, loss.item()))"
      ],
      "metadata": {
        "id": "xhpv8F3h2zVW",
        "outputId": "379181e1-6167-47ff-d586-7700ca60521f",
        "colab": {
          "base_uri": "https://localhost:8080/"
        }
      },
      "execution_count": 77,
      "outputs": [
        {
          "output_type": "stream",
          "name": "stdout",
          "text": [
            "Epoch [1/10], Step [100/600], Loss: 2.2851898670196533\n",
            "Epoch [1/10], Step [200/600], Loss: 2.2744503021240234\n",
            "Epoch [1/10], Step [300/600], Loss: 2.2416067123413086\n",
            "Epoch [1/10], Step [400/600], Loss: 2.2178542613983154\n",
            "Epoch [1/10], Step [500/600], Loss: 2.2069058418273926\n",
            "Epoch [1/10], Step [600/600], Loss: 2.1869559288024902\n",
            "Epoch [2/10], Step [100/600], Loss: 2.1350128650665283\n",
            "Epoch [2/10], Step [200/600], Loss: 2.12990665435791\n",
            "Epoch [2/10], Step [300/600], Loss: 2.1011931896209717\n",
            "Epoch [2/10], Step [400/600], Loss: 2.0986249446868896\n",
            "Epoch [2/10], Step [500/600], Loss: 2.063831090927124\n",
            "Epoch [2/10], Step [600/600], Loss: 2.0116872787475586\n",
            "Epoch [3/10], Step [100/600], Loss: 1.942845344543457\n",
            "Epoch [3/10], Step [200/600], Loss: 1.9968886375427246\n",
            "Epoch [3/10], Step [300/600], Loss: 1.9339183568954468\n",
            "Epoch [3/10], Step [400/600], Loss: 1.8699036836624146\n",
            "Epoch [3/10], Step [500/600], Loss: 1.9058417081832886\n",
            "Epoch [3/10], Step [600/600], Loss: 1.8402024507522583\n",
            "Epoch [4/10], Step [100/600], Loss: 1.7736986875534058\n",
            "Epoch [4/10], Step [200/600], Loss: 1.7485296726226807\n",
            "Epoch [4/10], Step [300/600], Loss: 1.7197926044464111\n",
            "Epoch [4/10], Step [400/600], Loss: 1.7238136529922485\n",
            "Epoch [4/10], Step [500/600], Loss: 1.6428569555282593\n",
            "Epoch [4/10], Step [600/600], Loss: 1.584844708442688\n",
            "Epoch [5/10], Step [100/600], Loss: 1.539583683013916\n",
            "Epoch [5/10], Step [200/600], Loss: 1.4786661863327026\n",
            "Epoch [5/10], Step [300/600], Loss: 1.3944092988967896\n",
            "Epoch [5/10], Step [400/600], Loss: 1.4553085565567017\n",
            "Epoch [5/10], Step [500/600], Loss: 1.4096145629882812\n",
            "Epoch [5/10], Step [600/600], Loss: 1.3871933221817017\n",
            "Epoch [6/10], Step [100/600], Loss: 1.357490062713623\n",
            "Epoch [6/10], Step [200/600], Loss: 1.3561586141586304\n",
            "Epoch [6/10], Step [300/600], Loss: 1.2834221124649048\n",
            "Epoch [6/10], Step [400/600], Loss: 1.2543367147445679\n",
            "Epoch [6/10], Step [500/600], Loss: 1.20234215259552\n",
            "Epoch [6/10], Step [600/600], Loss: 1.212463617324829\n",
            "Epoch [7/10], Step [100/600], Loss: 1.076244831085205\n",
            "Epoch [7/10], Step [200/600], Loss: 1.1542689800262451\n",
            "Epoch [7/10], Step [300/600], Loss: 1.1587462425231934\n",
            "Epoch [7/10], Step [400/600], Loss: 1.1711748838424683\n",
            "Epoch [7/10], Step [500/600], Loss: 1.1302739381790161\n",
            "Epoch [7/10], Step [600/600], Loss: 0.9746173024177551\n",
            "Epoch [8/10], Step [100/600], Loss: 1.017951250076294\n",
            "Epoch [8/10], Step [200/600], Loss: 0.9985746145248413\n",
            "Epoch [8/10], Step [300/600], Loss: 1.0135482549667358\n",
            "Epoch [8/10], Step [400/600], Loss: 0.9426056146621704\n",
            "Epoch [8/10], Step [500/600], Loss: 0.9664152264595032\n",
            "Epoch [8/10], Step [600/600], Loss: 0.9728494882583618\n",
            "Epoch [9/10], Step [100/600], Loss: 0.9663584232330322\n",
            "Epoch [9/10], Step [200/600], Loss: 0.9943108558654785\n",
            "Epoch [9/10], Step [300/600], Loss: 0.8938953280448914\n",
            "Epoch [9/10], Step [400/600], Loss: 0.8457281589508057\n",
            "Epoch [9/10], Step [500/600], Loss: 0.9825729131698608\n",
            "Epoch [9/10], Step [600/600], Loss: 0.8691895008087158\n",
            "Epoch [10/10], Step [100/600], Loss: 0.8564121127128601\n",
            "Epoch [10/10], Step [200/600], Loss: 0.8456590175628662\n",
            "Epoch [10/10], Step [300/600], Loss: 0.8753730654716492\n",
            "Epoch [10/10], Step [400/600], Loss: 0.8034022450447083\n",
            "Epoch [10/10], Step [500/600], Loss: 0.8295873403549194\n",
            "Epoch [10/10], Step [600/600], Loss: 0.7770695686340332\n"
          ]
        }
      ]
    },
    {
      "cell_type": "markdown",
      "source": [
        "**Test model**"
      ],
      "metadata": {
        "id": "O4_ipe-y_plf"
      }
    },
    {
      "cell_type": "code",
      "source": [
        "with torch.no_grad():\n",
        "  correct = 0\n",
        "  total = 0\n",
        "  for images, labels in test_loader:\n",
        "    images = images.reshape(-1, input).to(device)\n",
        "    labels = labels.to(device)\n",
        "    outputs = model(images)\n",
        "\n",
        "    _, predicted = torch.max(outputs.data, 1)\n",
        "    total += labels.size(0)\n",
        "    correct += (predicted == labels).sum().item()\n",
        "\n",
        "  print('Accuracy: {}'.format(100 * correct / total))"
      ],
      "metadata": {
        "id": "4M511ViM_xn0",
        "outputId": "4badfe23-1449-4441-a16b-9f9e7596252c",
        "colab": {
          "base_uri": "https://localhost:8080/"
        }
      },
      "execution_count": 78,
      "outputs": [
        {
          "output_type": "stream",
          "name": "stdout",
          "text": [
            "Accuracy: 84.1\n"
          ]
        }
      ]
    },
    {
      "cell_type": "code",
      "source": [
        "torch.save(model.state_dict(), \"NN_model.ckpt\")"
      ],
      "metadata": {
        "id": "EYUlBIqWCT2y"
      },
      "execution_count": 79,
      "outputs": []
    }
  ]
}